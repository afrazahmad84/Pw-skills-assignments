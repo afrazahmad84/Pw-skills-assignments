{
 "cells": [
  {
   "cell_type": "markdown",
   "id": "11194ab6-830d-4a27-aca8-29ce070a946f",
   "metadata": {},
   "source": [
    "#### Q1. What is an Exception in python? Write the difference between Exceptions and syntax errors"
   ]
  },
  {
   "cell_type": "markdown",
   "id": "48be5ef5-d16e-4251-904c-566a8cd6e8c6",
   "metadata": {},
   "source": [
    "Error that occurs on run time ....\n",
    "\n",
    "Errors mostly happen at compile-time like syntax error; however it can happen at runtime as well. Whereas an Exception occurs at runtim"
   ]
  },
  {
   "cell_type": "markdown",
   "id": "96be9217-fa9f-4524-af7d-755915c27130",
   "metadata": {},
   "source": [
    "#### Q2. What happened whan an exception is not handled.Explain with an example?"
   ]
  },
  {
   "cell_type": "markdown",
   "id": "3ed7622e-c7e1-4064-b359-55e396e0186a",
   "metadata": {},
   "source": [
    "If an exception is not caught (with a catch block), the runtime system will abort the program (i.e. crash) and an exception message will print to the console. The message typically includes: name of exception type."
   ]
  },
  {
   "cell_type": "code",
   "execution_count": 1,
   "id": "6815b8c6-3ee2-42e2-9254-ffcb751ed31a",
   "metadata": {},
   "outputs": [
    {
     "name": "stdout",
     "output_type": "stream",
     "text": [
      "division by zero\n"
     ]
    }
   ],
   "source": [
    "try:\n",
    "    a=5\n",
    "    b=a/0\n",
    "    print(b)\n",
    "    \n",
    "except Exception as e:\n",
    "    print(e)"
   ]
  },
  {
   "cell_type": "markdown",
   "id": "3f9d3d81-2d0d-48c5-842b-450105c162c4",
   "metadata": {},
   "source": [
    "#### Q3. Which Python statements are used to catch and handle exceptions? Explain with an example"
   ]
  },
  {
   "cell_type": "markdown",
   "id": "738d33f2-99c7-4919-b15c-249748a50cfe",
   "metadata": {},
   "source": [
    "Try and except statements are used to catch and handle exceptions in Python. Statements that can raise exceptions are kept inside the try clause and the statements that handle the exception are written inside except clause."
   ]
  },
  {
   "cell_type": "code",
   "execution_count": 3,
   "id": "bb1f128e-d52a-4657-b9ba-ac8db427aeaf",
   "metadata": {},
   "outputs": [
    {
     "name": "stdout",
     "output_type": "stream",
     "text": [
      "[Errno 2] No such file or directory: 'sudh.txt'\n"
     ]
    }
   ],
   "source": [
    "try:\n",
    "    f = open(\"sudh.txt\",\"r\")\n",
    "    f.write()\n",
    "    \n",
    "except Exception as e:\n",
    "    print(e)"
   ]
  },
  {
   "cell_type": "markdown",
   "id": "60814057-73b6-4293-bdcd-2e8bb7756d82",
   "metadata": {},
   "source": [
    "#### Q4.Explain with an example:    \n",
    "    \n",
    "    "
   ]
  },
  {
   "cell_type": "markdown",
   "id": "3edcce3a-10e7-4893-9d53-f45c9d17c241",
   "metadata": {},
   "source": [
    "a.  try and else\n",
    "\n",
    "b.  finally\n",
    "\n",
    "c.  raise"
   ]
  },
  {
   "cell_type": "markdown",
   "id": "54baaad7-5f43-4bfc-ade1-c533125c1331",
   "metadata": {},
   "source": [
    "Try: This block will test the excepted error to occur\n",
    "\n",
    "Except:  Here you can handle the error\n",
    "\n",
    "Else: If there is no exception then this block will be executed\n",
    "\n",
    "Finally: Finally block always gets executed either exception is generated or not"
   ]
  },
  {
   "cell_type": "code",
   "execution_count": 6,
   "id": "4fb94eb7-3f42-47e5-9644-c3357a463142",
   "metadata": {},
   "outputs": [
    {
     "name": "stdout",
     "output_type": "stream",
     "text": [
      "*\n",
      "**\n",
      "***\n",
      "****\n",
      "*****\n",
      "else will execute when try will complete execution without error\n",
      "the pattern is printed\n"
     ]
    }
   ],
   "source": [
    "try:\n",
    "    for i in range(1,6):\n",
    "        print(\"*\"*i)\n",
    "        \n",
    "except Exception as e:\n",
    "    print(e)\n",
    "    \n",
    "else:\n",
    "    print('else will execute when try will complete execution without error')\n",
    "    \n",
    "finally:\n",
    "    print('the pattern is printed')"
   ]
  },
  {
   "cell_type": "markdown",
   "id": "15e7d805-0ce3-4002-b815-4d4567696e78",
   "metadata": {},
   "source": [
    "#### Q5. What are custom Exceptions in Python? why do we need Custom Exception? Explain with an example."
   ]
  },
  {
   "cell_type": "markdown",
   "id": "ed49e19d-9995-44cb-a058-41a5b70870ab",
   "metadata": {},
   "source": [
    "Custom exceptions are helpful in many situations. They allow you to define your own error conditions and handle them in a more specific and meaningful way. For example, let's say you are writing a program that reads data from a file. If the file is not found, Python will raise a FileNotFoundError "
   ]
  },
  {
   "cell_type": "markdown",
   "id": "6b092f86-92be-40f9-9f11-d6a29834556a",
   "metadata": {},
   "source": [
    "#### Q6. Create a custom exception class. Use this class to handle an exception."
   ]
  },
  {
   "cell_type": "code",
   "execution_count": null,
   "id": "b794cf29-9b77-4e89-ad96-91d7e518b407",
   "metadata": {},
   "outputs": [],
   "source": [
    "class validateage(Exception):\n",
    "    \n",
    "    def __init__(self,msg):\n",
    "        self.msg = msg\n",
    "        "
   ]
  },
  {
   "cell_type": "code",
   "execution_count": null,
   "id": "038f3ef7-03a2-4d5f-9a16-67c7f5f44b2e",
   "metadata": {},
   "outputs": [],
   "source": [
    "def validateage(age):\n",
    "    if age < 0:\n",
    "        raise validateage(\"entered age is negative \")\n",
    "        \n",
    "    elif age > 200:\n",
    "        raise validateage('entered age is very very high')\n",
    "        \n",
    "        \n",
    "    else:\n",
    "        print('age is valid')\n",
    "        "
   ]
  },
  {
   "cell_type": "code",
   "execution_count": null,
   "id": "7e8c23a8-1f5c-46c1-b884-a20ffd00a603",
   "metadata": {},
   "outputs": [],
   "source": [
    "try:\n",
    "    age = int(input('enter the age'))    \n",
    "    validateage(age)\n",
    "    \n",
    "except validateage as e:\n",
    "    print(e)\n",
    "    \n",
    "    "
   ]
  }
 ],
 "metadata": {
  "kernelspec": {
   "display_name": "Python 3 (ipykernel)",
   "language": "python",
   "name": "python3"
  },
  "language_info": {
   "codemirror_mode": {
    "name": "ipython",
    "version": 3
   },
   "file_extension": ".py",
   "mimetype": "text/x-python",
   "name": "python",
   "nbconvert_exporter": "python",
   "pygments_lexer": "ipython3",
   "version": "3.10.8"
  }
 },
 "nbformat": 4,
 "nbformat_minor": 5
}
