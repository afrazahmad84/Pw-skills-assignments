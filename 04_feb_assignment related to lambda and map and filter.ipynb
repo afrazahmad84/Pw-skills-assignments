{
 "cells": [
  {
   "cell_type": "markdown",
   "id": "ca309f07-c8fb-4a0d-afa0-dfc00a3dbc02",
   "metadata": {},
   "source": [
    "### Q1. Create a python program to sort the given list of tuples based on integer value using a lambda function. [('Sachin Tendulkar', 34357), ('Ricky Ponting', 27483), ('Jack Kallis', 25534), ('Virat Kohli', 24936)]"
   ]
  },
  {
   "cell_type": "code",
   "execution_count": 38,
   "id": "b619ab97-2524-49f5-aade-dd1366eafbee",
   "metadata": {},
   "outputs": [],
   "source": [
    "l = [('Sachin Tendulkar', 34357), ('Ricky Ponting', 27483), ('Jack Kallis', 25534), ('Virat Kohli', 24936)]"
   ]
  },
  {
   "cell_type": "code",
   "execution_count": 54,
   "id": "b5969a78-4463-4339-b3cc-3c48811cdc78",
   "metadata": {},
   "outputs": [
    {
     "name": "stdout",
     "output_type": "stream",
     "text": [
      "Original list of tuples:\n",
      "[('Sachin Tendulkar', 34357), ('Ricky Ponting', 27483), ('Jack Kallis', 25534), ('Virat Kohli', 24936)]\n",
      "\n",
      "Sorting the List of Tuples:\n",
      "[('Virat Kohli', 24936), ('Jack Kallis', 25534), ('Ricky Ponting', 27483), ('Sachin Tendulkar', 34357)]\n"
     ]
    }
   ],
   "source": [
    "\n",
    "print(\"Original list of tuples:\")\n",
    "print(l)\n",
    "l.sort(key = lambda x: x[1])\n",
    "print(\"\\nSorting the List of Tuples:\")\n",
    "print(l)\n"
   ]
  },
  {
   "cell_type": "markdown",
   "id": "67a648cb-714b-4852-9d75-2ab49fe8a63f",
   "metadata": {},
   "source": [
    "### Q2. Write a Python Program to find the squares of all the numbers in the given list of integers using lambda and map functions."
   ]
  },
  {
   "cell_type": "code",
   "execution_count": 13,
   "id": "36c0ed3f-8ed4-46e2-89d4-50be8a99df78",
   "metadata": {},
   "outputs": [],
   "source": [
    "l1 = [1, 2, 3, 4, 5, 6, 7, 8, 9, 10]"
   ]
  },
  {
   "cell_type": "code",
   "execution_count": 16,
   "id": "717ef9e2-7efb-4848-9dcb-b1166607db77",
   "metadata": {},
   "outputs": [
    {
     "data": {
      "text/plain": [
       "[1, 4, 9, 16, 25, 36, 49, 64, 81, 100]"
      ]
     },
     "execution_count": 16,
     "metadata": {},
     "output_type": "execute_result"
    }
   ],
   "source": [
    "# output\n",
    "\n",
    "list(map(lambda x : x**2 ,l1))"
   ]
  },
  {
   "cell_type": "markdown",
   "id": "4a04d371-9e4c-4489-b387-897a4aee8f3c",
   "metadata": {},
   "source": [
    "### Q3. Write a python program to convert the given list of integers into a tuple of strings. Use map and lambda functions"
   ]
  },
  {
   "cell_type": "code",
   "execution_count": null,
   "id": "b1e015c6-8aa0-4026-a2f2-ade8a8f1bb91",
   "metadata": {},
   "outputs": [],
   "source": [
    "#Given String: [1, 2, 3, 4, 5, 6, 7, 8, 9, 10]\n",
    "#Expected output: ('1', '2', '3', '4', '5', '6', '7', '8', '9', '10')"
   ]
  },
  {
   "cell_type": "code",
   "execution_count": 17,
   "id": "e8ba36f1-3862-47bc-9648-fcc81bbe3277",
   "metadata": {},
   "outputs": [
    {
     "data": {
      "text/plain": [
       "('1', '2', '3', '4', '5', '6', '7', '8', '9', '10')"
      ]
     },
     "execution_count": 17,
     "metadata": {},
     "output_type": "execute_result"
    }
   ],
   "source": [
    "s = [1, 2, 3, 4, 5, 6, 7, 8, 9, 10]\n",
    "\n",
    "tuple(map(lambda x : str(x) , s))"
   ]
  },
  {
   "cell_type": "markdown",
   "id": "3c889495-b335-4cb2-b382-0470f112fab9",
   "metadata": {},
   "source": [
    "### Q4. Write a python program using reduce function to compute the product of a list containing numbers from 1 to 25."
   ]
  },
  {
   "cell_type": "code",
   "execution_count": 27,
   "id": "efb2b27b-c92b-438a-870d-d4372c1fdd90",
   "metadata": {},
   "outputs": [
    {
     "data": {
      "text/plain": [
       "325"
      ]
     },
     "execution_count": 27,
     "metadata": {},
     "output_type": "execute_result"
    }
   ],
   "source": [
    "l2 = list(range(1,26))\n",
    "reduce(lambda x,y : x+y,l2)"
   ]
  },
  {
   "cell_type": "code",
   "execution_count": 24,
   "id": "4eba97c7-004a-4259-bdff-00b748bf729d",
   "metadata": {},
   "outputs": [],
   "source": [
    "#from functools import reduce"
   ]
  },
  {
   "cell_type": "markdown",
   "id": "8c991e9a-22da-4d61-b873-26e5c118b458",
   "metadata": {},
   "source": [
    "### Q5. Write a python program to filter the numbers in a given list that are divisible by 2 and 3 using the filter function."
   ]
  },
  {
   "cell_type": "code",
   "execution_count": 28,
   "id": "70f81c52-dec6-4b9b-8b1a-154584bde75f",
   "metadata": {},
   "outputs": [],
   "source": [
    "l3 = [2, 3, 6, 9, 27, 60, 90, 120, 55, 46]"
   ]
  },
  {
   "cell_type": "code",
   "execution_count": 31,
   "id": "818aa383-b275-4fee-a6c2-c4cc1487a05d",
   "metadata": {},
   "outputs": [
    {
     "data": {
      "text/plain": [
       "[6, 60, 90, 120]"
      ]
     },
     "execution_count": 31,
     "metadata": {},
     "output_type": "execute_result"
    }
   ],
   "source": [
    "list(filter(lambda x : x%2 == 0 and x%3 == 0,l3))"
   ]
  },
  {
   "cell_type": "markdown",
   "id": "7536d524-fb2c-4e62-b0de-e46ea356978e",
   "metadata": {},
   "source": [
    "### Q6. Write a python program to find palindromes in the given list of strings using lambda and filter function."
   ]
  },
  {
   "cell_type": "code",
   "execution_count": 32,
   "id": "2d0a1f3f-b4b2-4adc-96f8-92cf6cb02634",
   "metadata": {},
   "outputs": [],
   "source": [
    "s2 = ['python', 'php', 'aba', 'radar', 'level']"
   ]
  },
  {
   "cell_type": "code",
   "execution_count": 36,
   "id": "e5c5dc62-ab20-4239-9dcd-ccdd6518cfdb",
   "metadata": {},
   "outputs": [
    {
     "data": {
      "text/plain": [
       "['php', 'aba', 'radar', 'level']"
      ]
     },
     "execution_count": 36,
     "metadata": {},
     "output_type": "execute_result"
    }
   ],
   "source": [
    "list(filter(lambda x : x == x[-1::-1],s2))"
   ]
  },
  {
   "cell_type": "code",
   "execution_count": null,
   "id": "58e775ec-e501-4952-9028-74af2696b53c",
   "metadata": {},
   "outputs": [],
   "source": []
  }
 ],
 "metadata": {
  "kernelspec": {
   "display_name": "Python 3 (ipykernel)",
   "language": "python",
   "name": "python3"
  },
  "language_info": {
   "codemirror_mode": {
    "name": "ipython",
    "version": 3
   },
   "file_extension": ".py",
   "mimetype": "text/x-python",
   "name": "python",
   "nbconvert_exporter": "python",
   "pygments_lexer": "ipython3",
   "version": "3.10.8"
  }
 },
 "nbformat": 4,
 "nbformat_minor": 5
}
