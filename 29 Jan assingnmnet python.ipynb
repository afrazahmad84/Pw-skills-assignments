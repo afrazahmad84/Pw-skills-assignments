{
 "cells": [
  {
   "cell_type": "markdown",
   "id": "f26a9a6d-b590-4266-839e-36d38946e54a",
   "metadata": {},
   "source": [
    "### 1. Who developed Python Programming Language? \n"
   ]
  },
  {
   "cell_type": "markdown",
   "id": "1a923a91-3976-4d82-8253-bb233419eb5b",
   "metadata": {},
   "source": [
    "Python was created by Guido van Rossum, and first released on February 20, 1991."
   ]
  },
  {
   "cell_type": "markdown",
   "id": "3eb9c6f9-beeb-4fbe-acde-1b0f2d1d83de",
   "metadata": {},
   "source": [
    "### 2. Which type of Programming does Python support? \n"
   ]
  },
  {
   "cell_type": "markdown",
   "id": "077fe18b-face-495e-ace4-f88f202666b9",
   "metadata": {
    "tags": []
   },
   "source": [
    "Python is an interpreted programming language, which supports object-oriented, structured, and functional programming."
   ]
  },
  {
   "cell_type": "markdown",
   "id": "a08df6ff-5e11-488e-b5fd-7f071f81062b",
   "metadata": {},
   "source": [
    "### 3. Is Python case sensitive when dealing with identifiers? \n"
   ]
  },
  {
   "cell_type": "markdown",
   "id": "6d397ffb-15b8-4a6e-9998-4a440ed4ac9a",
   "metadata": {},
   "source": [
    "Case is always significant while dealing with identifiers in python."
   ]
  },
  {
   "cell_type": "markdown",
   "id": "ed477711-40d5-4c42-a3d3-af9d3bbac906",
   "metadata": {},
   "source": [
    "### 4. What is the correct extension of the Python file? \n"
   ]
  },
  {
   "cell_type": "markdown",
   "id": "e4d95efb-6e92-4cbc-901f-d117fcf2e738",
   "metadata": {},
   "source": [
    "\".py\" is correct extention of python file."
   ]
  },
  {
   "cell_type": "markdown",
   "id": "591c4f0c-057e-427c-b771-daffac9d9496",
   "metadata": {},
   "source": [
    "### 5. Is Python code compiled or interpreted? \n"
   ]
  },
  {
   "cell_type": "markdown",
   "id": "2578efc7-02a9-40b7-9acf-95ec149d7ab2",
   "metadata": {},
   "source": [
    "Python code is both 'compiled' and 'interpreted'."
   ]
  },
  {
   "cell_type": "markdown",
   "id": "c8801871-8226-4999-ab2a-58563297d623",
   "metadata": {},
   "source": [
    "### 6. Name a few blocks of code used to define in Python language? \n"
   ]
  },
  {
   "cell_type": "markdown",
   "id": "6ff6df13-574b-4839-8a71-657e30c29524",
   "metadata": {},
   "source": [
    "A block is a piece of Python program text that is executed as a unit. The following are blocks: a module, a function body, and a class definition."
   ]
  },
  {
   "cell_type": "markdown",
   "id": "e1804d24-8ac6-4b0b-a570-ce7b7886294a",
   "metadata": {},
   "source": [
    "### 7. State a character used to give single-line comments in Python? "
   ]
  },
  {
   "cell_type": "markdown",
   "id": "8628aa0f-37e2-4d74-b4a6-686c439049dd",
   "metadata": {},
   "source": [
    "\"#\" is used for single line comment."
   ]
  },
  {
   "cell_type": "markdown",
   "id": "b93cb0eb-a96d-410c-a853-3a317c716f76",
   "metadata": {},
   "source": [
    "### 8. Mention functions which can help us to find the version of python that we are currently working on? \n"
   ]
  },
  {
   "cell_type": "markdown",
   "id": "b57907d4-0078-40fa-9c80-857f1acd599f",
   "metadata": {},
   "source": [
    "\"sys.version\" function will help use to find the version of python that we are currently working on."
   ]
  },
  {
   "cell_type": "markdown",
   "id": "0ca705d0-9a3d-4b60-9c0e-b2b644468a48",
   "metadata": {},
   "source": [
    "### 9. Python supports the creation of anonymous functions at runtime, using a construct called ----------\n"
   ]
  },
  {
   "cell_type": "markdown",
   "id": "8b83848e-b56d-43f9-b2f9-a5762a386ae5",
   "metadata": {},
   "source": [
    "Python supports the creation of anonymous functions (i.e. functions that are not bound to a name) at runtime, using a construct called lambda. Lambda functions are restricted to a single expression. They can be used wherever normal functions can be used."
   ]
  },
  {
   "cell_type": "markdown",
   "id": "fda643dc-3b1e-4666-b485-13c174cd20de",
   "metadata": {},
   "source": [
    "### 10. What does pip stand for python? \n"
   ]
  },
  {
   "cell_type": "markdown",
   "id": "8bf4572f-b975-4e53-b064-eb42cdb91d19",
   "metadata": {},
   "source": [
    " pip is a package manager for python. Which is also called Preferred Installer Program."
   ]
  },
  {
   "cell_type": "markdown",
   "id": "4fec71a4-9844-4b06-baf1-d6913d82267b",
   "metadata": {},
   "source": [
    "### 11. Mention a few built-in functions in python? \n"
   ]
  },
  {
   "cell_type": "markdown",
   "id": "e4da6d8b-f93f-4662-bd06-2f73693ee2ab",
   "metadata": {},
   "source": [
    "There are few built in functions like\n",
    "\n",
    "print()   --- this function is used for printing in python.\n",
    "\n",
    "len()     ----   this function is used to find out the length.\n",
    "\n",
    "append()  ---- this function is used to append the item in the list\n",
    "\n",
    "max()     -----  this function is used to find out the maximum value.\n",
    "\n",
    "min()     ------  this function is used to find out the minumum value."
   ]
  },
  {
   "cell_type": "markdown",
   "id": "f63eecc5-231f-4049-91b5-29c6dab58db7",
   "metadata": {},
   "source": [
    "### 12. What is the maximum possible length of an identifier in Python? \n"
   ]
  },
  {
   "cell_type": "markdown",
   "id": "49028048-bf47-4192-b52e-a72dde1a87dc",
   "metadata": {},
   "source": [
    " An identifier can have a maximum length of 79 characters in Python"
   ]
  },
  {
   "cell_type": "markdown",
   "id": "de9290ff-f4b6-4797-8c13-81cd596e44e9",
   "metadata": {},
   "source": [
    "### 13. What are the benefits of using Python? \n"
   ]
  },
  {
   "cell_type": "markdown",
   "id": "bf72f660-7371-48ed-b019-55a09ed9a7aa",
   "metadata": {},
   "source": [
    "Python is a powerful, flexible, and easy-to-use language. In addition, the python community is very active. It is used in many organizations as it supports multiple programming paradigms. It also performs automatic memory management."
   ]
  },
  {
   "cell_type": "markdown",
   "id": "62d7df73-0ca2-4f2a-8cc9-e2d6fcb3adcf",
   "metadata": {},
   "source": [
    "### 14. How is memory managed in Python? \n"
   ]
  },
  {
   "cell_type": "markdown",
   "id": "2ea5cabc-e45e-4d4e-9dd5-c8255d628e32",
   "metadata": {},
   "source": [
    "Memory management in Python involves a private heap containing all Python objects and data structures. The management of this private heap is ensured internally by the Python memory manager."
   ]
  },
  {
   "cell_type": "markdown",
   "id": "60275f19-6a45-40ca-9f4c-b3303e011416",
   "metadata": {},
   "source": [
    "### 15. How to install Python on Windows and set path variables? "
   ]
  },
  {
   "cell_type": "markdown",
   "id": "f63837fd-254d-497c-97cd-a7dbb9605db9",
   "metadata": {},
   "source": [
    "First, we must find the directory where we installed Python. A typical installation would have the following path, C:\\Users\\MyUserName\\AppData\\Local\\Programs\\Python\\Python310\n",
    "\n",
    "Now, we will need to add this to the PATH variable, we right click on \"This PC\" and go to \"Properties\".\n",
    "\n",
    "Then, we click on the \"Advanced system settings\" in the menu on the left.going\n",
    "\n",
    "In the bottom right, we can see a button labeled \"Environment Variables\". We will click on it to open another window to edit these variables.\n",
    "\n",
    "Now, we select the \"Path variable\" in the \"System variables\" section and click \"Edit\". The next screen will show all the directories currently part of the PATH variable.\n",
    "\n",
    "Another window opens up where we can see all the paths for the currently configured system variables. To add a new path for our Python program, we will click on the \"New\" button on the right side and paste the path in Step 1\n",
    "\n",
    "We have successfully added the path for our Python program to our system's environment variables. The best practice is to restart the system afterward for the change to occur.\n",
    "\n",
    "Now, we can verify if the PATH variable was configured correctly by opening up the terminal and entering the command python --version."
   ]
  },
  {
   "cell_type": "markdown",
   "id": "b389825c-6996-4365-8bcc-c8a9943117d9",
   "metadata": {},
   "source": [
    "### 16. Is indentation required in python? "
   ]
  },
  {
   "cell_type": "markdown",
   "id": "aa49145d-ce50-4ac5-af4a-f91271f46995",
   "metadata": {},
   "source": [
    "Each and every object in Python when stored into the memory is being allocated a unique identification number that helps the Python compiler to perform better and utilize memory efficiently. Each object has its own unique identity assigned to it as an integer number which differentiates it from other objects."
   ]
  },
  {
   "cell_type": "code",
   "execution_count": null,
   "id": "4fc74e84-ba55-4c64-bb5b-b386b32960b2",
   "metadata": {},
   "outputs": [],
   "source": []
  }
 ],
 "metadata": {
  "kernelspec": {
   "display_name": "Python 3 (ipykernel)",
   "language": "python",
   "name": "python3"
  },
  "language_info": {
   "codemirror_mode": {
    "name": "ipython",
    "version": 3
   },
   "file_extension": ".py",
   "mimetype": "text/x-python",
   "name": "python",
   "nbconvert_exporter": "python",
   "pygments_lexer": "ipython3",
   "version": "3.10.8"
  }
 },
 "nbformat": 4,
 "nbformat_minor": 5
}
