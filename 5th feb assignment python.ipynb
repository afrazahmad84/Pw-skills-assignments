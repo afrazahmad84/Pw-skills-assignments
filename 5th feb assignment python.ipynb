{
 "cells": [
  {
   "cell_type": "markdown",
   "id": "cdf24217-9cc1-4a7e-bb86-72a10967af52",
   "metadata": {},
   "source": [
    "## Q1. Explain Class and Object with respect to Object-Oriented Programming. Give a suitable example."
   ]
  },
  {
   "cell_type": "markdown",
   "id": "6ca3cf9f-4aee-402a-83b2-170509040eab",
   "metadata": {},
   "source": [
    "Class is blueprint of any object. and object is an instance of any class."
   ]
  },
  {
   "cell_type": "markdown",
   "id": "8fcb1b8e-1111-4895-be9f-301251073322",
   "metadata": {},
   "source": [
    "## Q2. Name the four pillars of OOPs."
   ]
  },
  {
   "cell_type": "raw",
   "id": "de1e7928-9ab4-4d59-8d28-6b3347cfbd2a",
   "metadata": {},
   "source": [
    "There are four pillars of oops\n",
    "1. Encapsulation\n",
    "2.Abstraction\n",
    "3.Polymorphism\n",
    "4.Inheritence"
   ]
  },
  {
   "cell_type": "markdown",
   "id": "f347c7ac-1a53-4cb7-b635-a5c34c1f86b8",
   "metadata": {},
   "source": [
    "## Q3. Explain why the __init__() function is used. Give a suitable example."
   ]
  },
  {
   "cell_type": "code",
   "execution_count": null,
   "id": "cc7ad94c-bc3c-4f77-8440-284a663606f5",
   "metadata": {},
   "outputs": [],
   "source": []
  },
  {
   "cell_type": "markdown",
   "id": "134fcb9c-828a-48e4-94f0-d0907ffb3762",
   "metadata": {},
   "source": [
    "## Q4. Why self is used in OOPs?"
   ]
  },
  {
   "cell_type": "code",
   "execution_count": null,
   "id": "b799903b-1351-4216-8057-1a1daa0a853a",
   "metadata": {},
   "outputs": [],
   "source": [
    "Self is used to bind the variables and functions in the class so that class can recognise its function and use it."
   ]
  },
  {
   "cell_type": "markdown",
   "id": "661bef09-c1e3-4811-9655-15819116f8e2",
   "metadata": {},
   "source": [
    "## Q5. What is inheritance? Give an example for each type of inheritance."
   ]
  },
  {
   "cell_type": "code",
   "execution_count": null,
   "id": "1a5d3d8f-934c-4c7e-8834-a778db2ab41a",
   "metadata": {},
   "outputs": [],
   "source": []
  }
 ],
 "metadata": {
  "kernelspec": {
   "display_name": "Python 3 (ipykernel)",
   "language": "python",
   "name": "python3"
  },
  "language_info": {
   "codemirror_mode": {
    "name": "ipython",
    "version": 3
   },
   "file_extension": ".py",
   "mimetype": "text/x-python",
   "name": "python",
   "nbconvert_exporter": "python",
   "pygments_lexer": "ipython3",
   "version": "3.10.8"
  }
 },
 "nbformat": 4,
 "nbformat_minor": 5
}
