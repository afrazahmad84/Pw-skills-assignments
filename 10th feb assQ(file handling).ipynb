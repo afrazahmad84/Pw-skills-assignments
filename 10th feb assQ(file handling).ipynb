{
 "cells": [
  {
   "cell_type": "markdown",
   "id": "8d7367c3-4a4a-4bfc-9ddb-edb095111515",
   "metadata": {},
   "source": [
    "#### Q1. Which function is used to open a file? What are the different modes of opening a file? Explain each mode of file opening.\n"
   ]
  },
  {
   "cell_type": "markdown",
   "id": "ff9d5064-1239-4a9e-90ef-041b9144ae60",
   "metadata": {},
   "source": [
    "ANS - open() is used to open the file the modes for opening the file are\n",
    "\n",
    "'r'       open for reading (default)\n",
    "\n",
    "'w'       open for writing, truncating the file first\n",
    "\n",
    "'x'       create a new file and open it for writing\n",
    "\n",
    "'a'       open for writing, appending to the end of the file if it exists\n",
    "\n",
    "'b'       binary mode\n",
    "\n",
    "'t'       text mode (default)\n",
    "\n",
    "'+'       open a disk file for updating (reading and writing)\n",
    "\n",
    "'U'       universal newline mode (deprecated)\n"
   ]
  },
  {
   "cell_type": "markdown",
   "id": "08fa6a93-d124-490f-badc-9cf41a7fe059",
   "metadata": {},
   "source": [
    "#### Q2. Why close() function is used? Why is it important to close a file?\n"
   ]
  },
  {
   "cell_type": "markdown",
   "id": "9dd6193c-3399-41d3-81e6-e74def2cbecd",
   "metadata": {},
   "source": [
    "ANS - close function is used to close the file \n",
    "\n",
    "without closing the file nothing will be saved will have to perform the close function."
   ]
  },
  {
   "cell_type": "markdown",
   "id": "f6d437ed-1ea1-4bdf-afd1-86832f4821e8",
   "metadata": {},
   "source": [
    "#### Q3. Write a python program to create a text file. Write ‘I want to become a Data Scientist’ in that file. Then close the file. Open this file and read the content of the file.\n"
   ]
  },
  {
   "cell_type": "code",
   "execution_count": 3,
   "id": "e5e4a6cd-67ed-48db-b4a4-2e10eb9cafea",
   "metadata": {},
   "outputs": [],
   "source": [
    "f = open('text1.txt','w')\n",
    "\n",
    "f.write('I want to become a Data Scientist')\n",
    "\n",
    "f.close()"
   ]
  },
  {
   "cell_type": "code",
   "execution_count": 7,
   "id": "fae6859b-aede-4a77-a575-cd6379e26f2f",
   "metadata": {},
   "outputs": [
    {
     "data": {
      "text/plain": [
       "'I want to become a Data Scientist'"
      ]
     },
     "execution_count": 7,
     "metadata": {},
     "output_type": "execute_result"
    }
   ],
   "source": [
    "f = open('text1.txt','r')\n",
    "f.read()\n"
   ]
  },
  {
   "cell_type": "markdown",
   "id": "b2b832d0-df19-4879-a7fc-bb7c80886c3a",
   "metadata": {},
   "source": [
    "#### Q4. Explain the following with python code: read(), readline() and readlines().\n"
   ]
  },
  {
   "cell_type": "code",
   "execution_count": 6,
   "id": "f6d2f7f4-3f5b-428b-999a-55409a320e51",
   "metadata": {},
   "outputs": [
    {
     "name": "stdout",
     "output_type": "stream",
     "text": [
      "this is second line \n",
      " this is my third line \n",
      " this is my fourth line\n"
     ]
    }
   ],
   "source": [
    "f = open('sample1.txt','r')\n",
    "print(f.read())\n",
    "f.close()"
   ]
  },
  {
   "cell_type": "code",
   "execution_count": 9,
   "id": "4771a065-2529-46ac-b43f-687629de6d64",
   "metadata": {},
   "outputs": [
    {
     "name": "stdout",
     "output_type": "stream",
     "text": [
      "t\n",
      "h\n",
      "i\n",
      "s\n",
      " \n",
      "i\n",
      "s\n",
      " \n",
      "s\n",
      "e\n",
      "c\n",
      "o\n",
      "n\n",
      "d\n",
      " \n",
      "l\n",
      "i\n",
      "n\n",
      "e\n",
      " \n",
      "\n",
      "\n"
     ]
    }
   ],
   "source": [
    "f = open('sample1.txt','r')\n",
    "for i in f.readline():\n",
    "    print(i)\n",
    "\n"
   ]
  },
  {
   "cell_type": "code",
   "execution_count": 8,
   "id": "c38f1610-1963-4836-854a-310ec8daec9e",
   "metadata": {},
   "outputs": [
    {
     "data": {
      "text/plain": [
       "['this is second line \\n',\n",
       " ' this is my third line \\n',\n",
       " ' this is my fourth line']"
      ]
     },
     "execution_count": 8,
     "metadata": {},
     "output_type": "execute_result"
    }
   ],
   "source": [
    "f = open('sample1.txt','r')\n",
    "f.readlines()\n",
    "\n"
   ]
  },
  {
   "cell_type": "markdown",
   "id": "a66fdd2b-832d-4c02-8739-7679525fa193",
   "metadata": {},
   "source": [
    "#### Q5. Explain why with statement is used with open(). What is the advantage of using with statement and open() together?\n"
   ]
  },
  {
   "cell_type": "code",
   "execution_count": null,
   "id": "2869c38c-7c16-4d90-b28a-627a4484fe3b",
   "metadata": {},
   "outputs": [],
   "source": []
  },
  {
   "cell_type": "markdown",
   "id": "10c44299-0b61-418e-96b3-dec3194d41cd",
   "metadata": {},
   "source": [
    "#### Q6. Explain the write() and writelines() functions. Give a suitable example."
   ]
  },
  {
   "cell_type": "markdown",
   "id": "8684af58-4802-4679-93aa-5a47bf9da302",
   "metadata": {},
   "source": [
    "write() -  if you want to write a single string you can do this with write(). "
   ]
  },
  {
   "cell_type": "code",
   "execution_count": 2,
   "id": "ecf6e947-994b-4fc7-b287-b09e18fa52ad",
   "metadata": {},
   "outputs": [],
   "source": [
    "f = open('sample1.txt','w')\n",
    "f.write(\"this is my first line\")\n",
    "f.close()"
   ]
  },
  {
   "cell_type": "markdown",
   "id": "92aeaebf-2aa2-4ac2-ae98-c87bd06e160e",
   "metadata": {},
   "source": [
    "Writelines() - If you have a sequence of strings you can write them all using writelines()."
   ]
  },
  {
   "cell_type": "code",
   "execution_count": 3,
   "id": "bea1d2c1-9cef-4a50-bce9-480de68b581f",
   "metadata": {},
   "outputs": [],
   "source": [
    "f = open('sample1.txt','w')\n",
    "\n",
    "f.writelines('this is second line \\n this is my third line \\n this is my fourth line')\n",
    "\n",
    "f.close()"
   ]
  },
  {
   "cell_type": "code",
   "execution_count": null,
   "id": "8236b305-af25-4ddd-8e8b-e1f20081e1d4",
   "metadata": {},
   "outputs": [],
   "source": []
  }
 ],
 "metadata": {
  "kernelspec": {
   "display_name": "Python 3 (ipykernel)",
   "language": "python",
   "name": "python3"
  },
  "language_info": {
   "codemirror_mode": {
    "name": "ipython",
    "version": 3
   },
   "file_extension": ".py",
   "mimetype": "text/x-python",
   "name": "python",
   "nbconvert_exporter": "python",
   "pygments_lexer": "ipython3",
   "version": "3.10.8"
  }
 },
 "nbformat": 4,
 "nbformat_minor": 5
}
