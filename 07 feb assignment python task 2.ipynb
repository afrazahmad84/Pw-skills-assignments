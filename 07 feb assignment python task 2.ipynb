{
 "cells": [
  {
   "cell_type": "markdown",
   "id": "0ef444a7-0aab-4fcc-9d01-7b15f62bcdab",
   "metadata": {},
   "source": [
    "#### Q1. You are writing code for a company. The requirement of the company is that you create a python function that will check whether the password entered by the user is correct or not. The function shouldtake the password as input and return the string “Valid Password” if the entered password follows thebelow-given password guidelines else it should return “Invalid Password”.\n"
   ]
  },
  {
   "cell_type": "markdown",
   "id": "f4e7f685-12cc-485b-8a55-f4abd841eea4",
   "metadata": {},
   "source": [
    "Note: 1. The Password should contain at least two uppercase letters and at least two lowercase letters.\n",
    "\n",
    "2. The Password should contain at least a number and three special characters.\n",
    "\n",
    "3. The length of the password should be 10 characters long."
   ]
  },
  {
   "cell_type": "code",
   "execution_count": 7,
   "id": "46c7c10e-2f73-45e6-a89b-2fb715f3b284",
   "metadata": {},
   "outputs": [],
   "source": [
    "def password1(pas):\n",
    "    cu = 0\n",
    "    cl = 0\n",
    "    cn = 0 \n",
    "    cs = 0\n",
    "    for i in pas:\n",
    "        if (i in \"0123456789\"):\n",
    "            cn = cn + 1\n",
    "        elif (i in 'abcdefghijklmnopqrstuvwxyz'):\n",
    "            cl = cl + 1\n",
    "        elif (i in 'ABCDEFGHIJKLMNOPQRSTUVWXYZ'):\n",
    "            cu = cu + 1\n",
    "        elif (i in \" !#$%&'*+-/<=>?@^|\"):\n",
    "            cs = cs + 1\n",
    "            \n",
    "    leng = cu + cl + cn +cs        \n",
    "    if (cu>=2 and cl>=2 and cn>=1 and cs>=3 and leng>=10):\n",
    "        print(\"Valid password\")\n",
    "        \n",
    "    else:\n",
    "        print(\"Invalid password\")\n",
    "        \n",
    "        \n",
    "            \n",
    "            \n",
    "        "
   ]
  },
  {
   "cell_type": "code",
   "execution_count": 8,
   "id": "32d0c8ef-49ae-4be7-bfbe-391b70029cc3",
   "metadata": {},
   "outputs": [
    {
     "name": "stdout",
     "output_type": "stream",
     "text": [
      "Invalid password\n"
     ]
    }
   ],
   "source": [
    "inp = \"Afraz@123\"\n",
    "password1(inp)"
   ]
  },
  {
   "cell_type": "markdown",
   "id": "fde2daba-ef25-43c5-a28b-faf4cdfa9997",
   "metadata": {},
   "source": [
    "#### Q2. Solve the below-given questions using at least one of the following:\n",
    "1. Lambda function\n",
    "2. Filter function\n",
    "3. Map function\n",
    "4. List Comprehension\n",
    "\n",
    "\n"
   ]
  },
  {
   "cell_type": "markdown",
   "id": "985df2ae-27d5-42f8-a20e-96a92a11a457",
   "metadata": {},
   "source": [
    ".Check if the string starts with a particular letter.\n",
    "\n",
    ".Check if the string is numeric.\n",
    "\n",
    ".Sort a list of tuples having fruit names and their quantity. [(\"mango\",99),(\"orange\",80), (\"grapes\", 1000)]\n",
    "\n",
    ".Find the squares of numbers from 1 to 10.\n",
    "\n",
    ".Find the cube root of numbers from 1 to 10.\n",
    "\n",
    ".Check if a given number is even.\n",
    "\n",
    ".Filter odd numbers from the given list. [1,2,3,4,5,6,7,8,9,10]\n",
    "\n",
    ".Sort a list of integers into positive and negative integers lists. [1,2,3,4,5,6,-1,-2,-3,-4,-5,0]"
   ]
  },
  {
   "cell_type": "code",
   "execution_count": null,
   "id": "e01c6837-9cd0-4971-b51d-2b3af65d9749",
   "metadata": {},
   "outputs": [],
   "source": []
  },
  {
   "cell_type": "markdown",
   "id": "5348a2d8-254c-4d68-90c6-2f9d8707999b",
   "metadata": {},
   "source": [
    "##### Check if the string starts with a particular letter."
   ]
  },
  {
   "cell_type": "code",
   "execution_count": 62,
   "id": "7c0ff736-ed52-4f4e-bf23-3322495aa793",
   "metadata": {},
   "outputs": [
    {
     "name": "stdin",
     "output_type": "stream",
     "text": [
      "enter string to check criteria afraz\n",
      "enter initial words to check  af\n"
     ]
    },
    {
     "data": {
      "text/plain": [
       "True"
      ]
     },
     "execution_count": 62,
     "metadata": {},
     "output_type": "execute_result"
    }
   ],
   "source": [
    "inp = input(\"enter string to check criteria\")\n",
    "inc = input(\"enter initial words to check \")\n",
    "            \n",
    "lmb = lambda x,y: x.startswith(y)    \n",
    "lmb(inp,inc)            \n",
    "            "
   ]
  },
  {
   "cell_type": "markdown",
   "id": "fa1095a6-762d-425a-abd8-8cd28ae83bfb",
   "metadata": {},
   "source": [
    "##### Check if the string is numeric."
   ]
  },
  {
   "cell_type": "code",
   "execution_count": 60,
   "id": "119f10b9-e8ee-4983-8ea1-d7c6584a18eb",
   "metadata": {},
   "outputs": [
    {
     "name": "stdin",
     "output_type": "stream",
     "text": [
      "enter string to check whether it is numeric or not 12345\n"
     ]
    },
    {
     "data": {
      "text/plain": [
       "True"
      ]
     },
     "execution_count": 60,
     "metadata": {},
     "output_type": "execute_result"
    }
   ],
   "source": [
    "st = input(\"enter string to check whether it is numeric or not\")\n",
    "\n",
    "lm = lambda x : x.isnumeric()\n",
    "\n",
    "lm(st)"
   ]
  },
  {
   "cell_type": "markdown",
   "id": "4e22fc7f-8e2b-41e5-9efd-3eb2de01ff53",
   "metadata": {},
   "source": [
    "##### Sort a list of tuples having fruit names and their quantity. [(\"mango\",99),(\"orange\",80), (\"grapes\", 1000)]"
   ]
  },
  {
   "cell_type": "code",
   "execution_count": 66,
   "id": "2e0d41f2-093c-4429-b317-8f32608d0fc6",
   "metadata": {},
   "outputs": [
    {
     "data": {
      "text/plain": [
       "[('grapes', 1000), ('mango', 99), ('orange', 80)]"
      ]
     },
     "execution_count": 66,
     "metadata": {},
     "output_type": "execute_result"
    }
   ],
   "source": [
    "t = [(\"mango\",99),(\"orange\",80), (\"grapes\", 1000)]\n",
    "t.sort()\n",
    "t\n"
   ]
  },
  {
   "cell_type": "code",
   "execution_count": null,
   "id": "3e600e4e-a834-4219-abdc-a096111db721",
   "metadata": {},
   "outputs": [],
   "source": []
  },
  {
   "cell_type": "markdown",
   "id": "9486b0c8-170f-481b-8e91-327d8fb06c75",
   "metadata": {},
   "source": [
    "##### Find the squares of numbers from 1 to 10."
   ]
  },
  {
   "cell_type": "code",
   "execution_count": 17,
   "id": "498d650a-11af-46b0-ad26-e96ee38ea8d7",
   "metadata": {},
   "outputs": [
    {
     "data": {
      "text/plain": [
       "[1, 4, 9, 16, 25, 36, 49, 64, 81, 100]"
      ]
     },
     "execution_count": 17,
     "metadata": {},
     "output_type": "execute_result"
    }
   ],
   "source": [
    "\n",
    "l = list(range(1,11))\n",
    "\n",
    "list(map(lambda x:x**2,l))"
   ]
  },
  {
   "cell_type": "markdown",
   "id": "21afcb3a-076c-489a-933b-7faffb207aae",
   "metadata": {},
   "source": [
    "##### Find the cube root of numbers from 1 to 10."
   ]
  },
  {
   "cell_type": "code",
   "execution_count": 20,
   "id": "040615ef-cdb5-4e3d-9801-d89446f03ada",
   "metadata": {},
   "outputs": [
    {
     "data": {
      "text/plain": [
       "[1, 8, 27, 64, 125, 216, 343, 512, 729, 1000]"
      ]
     },
     "execution_count": 20,
     "metadata": {},
     "output_type": "execute_result"
    }
   ],
   "source": [
    "[i**3 for i in range(1,11)]"
   ]
  },
  {
   "cell_type": "markdown",
   "id": "09835c13-8b76-44cd-9a71-bf0fe1d4fb73",
   "metadata": {},
   "source": [
    "##### .Check if a given number is even."
   ]
  },
  {
   "cell_type": "code",
   "execution_count": 56,
   "id": "201d5256-eb95-46ee-ac31-7d5e9eae38a4",
   "metadata": {},
   "outputs": [
    {
     "data": {
      "text/plain": [
       "True"
      ]
     },
     "execution_count": 56,
     "metadata": {},
     "output_type": "execute_result"
    }
   ],
   "source": [
    "a = lambda x : x%2==0\n",
    "a(2)"
   ]
  },
  {
   "cell_type": "markdown",
   "id": "b43417e2-6a40-4c78-9125-840f2cbc0914",
   "metadata": {},
   "source": [
    "##### Filter odd numbers from the given list. [1,2,3,4,5,6,7,8,9,10]"
   ]
  },
  {
   "cell_type": "code",
   "execution_count": 22,
   "id": "e166b617-4573-4d0e-acfa-ae1dbd1c2772",
   "metadata": {},
   "outputs": [
    {
     "data": {
      "text/plain": [
       "[1, 3, 5, 7, 9]"
      ]
     },
     "execution_count": 22,
     "metadata": {},
     "output_type": "execute_result"
    }
   ],
   "source": [
    "list(filter(lambda x : x%2!=0,[1,2,3,4,5,6,7,8,9,10]))"
   ]
  },
  {
   "cell_type": "markdown",
   "id": "73079d0c-1895-4c8a-a0fd-b0ce806ce4ad",
   "metadata": {},
   "source": [
    "##### Sort a list of integers into positive and negative integers lists. [1,2,3,4,5,6,-1,-2,-3,-4,-5,0]"
   ]
  },
  {
   "cell_type": "code",
   "execution_count": 43,
   "id": "a4390129-1560-42cd-be4f-30fc4078a601",
   "metadata": {},
   "outputs": [],
   "source": [
    "def fil_list(l):\n",
    "    pos = []\n",
    "    neg = []\n",
    "    for i in l:\n",
    "        if i < 0:\n",
    "            neg.append(i)\n",
    "        else:\n",
    "            pos.append(i)\n",
    "\n",
    "\n",
    "    pos.sort()\n",
    "    neg.sort()\n",
    "\n",
    "    print(pos,neg)\n",
    "        \n",
    "            \n"
   ]
  },
  {
   "cell_type": "code",
   "execution_count": 54,
   "id": "d668ad5b-a4bf-4ab1-a82d-71d1f3a72dbc",
   "metadata": {},
   "outputs": [
    {
     "data": {
      "text/plain": [
       "([0, 1, 2, 3, 4, 5, 6], [-5, -4, -3, -2, -1])"
      ]
     },
     "execution_count": 54,
     "metadata": {},
     "output_type": "execute_result"
    }
   ],
   "source": [
    "fil_list([1,2,3,4,5,6,-1,-2,-3,-4,-5,0])"
   ]
  },
  {
   "cell_type": "code",
   "execution_count": null,
   "id": "451d9241-5b4a-4844-97d5-abbee8e39fbd",
   "metadata": {},
   "outputs": [],
   "source": []
  }
 ],
 "metadata": {
  "kernelspec": {
   "display_name": "Python 3 (ipykernel)",
   "language": "python",
   "name": "python3"
  },
  "language_info": {
   "codemirror_mode": {
    "name": "ipython",
    "version": 3
   },
   "file_extension": ".py",
   "mimetype": "text/x-python",
   "name": "python",
   "nbconvert_exporter": "python",
   "pygments_lexer": "ipython3",
   "version": "3.10.8"
  }
 },
 "nbformat": 4,
 "nbformat_minor": 5
}
