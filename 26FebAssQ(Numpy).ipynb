{
 "cells": [
  {
   "cell_type": "markdown",
   "id": "e400ce0e-59f7-4be7-a390-2659cc0787a2",
   "metadata": {},
   "source": [
    "# Numpy basic assignment"
   ]
  },
  {
   "cell_type": "markdown",
   "id": "f0a475cc-6d87-4afb-a77d-290ec3ba0e4b",
   "metadata": {},
   "source": [
    "#### AVAILABLE DATASET1"
   ]
  },
  {
   "cell_type": "code",
   "execution_count": 1,
   "id": "af57b974-09ce-41cb-bd28-a8ea573690b5",
   "metadata": {},
   "outputs": [],
   "source": [
    "import numpy as np\n",
    "\n",
    "list_ = [ '1' , '2' , '3' , '4' , '5' ]\n",
    "\n",
    "array_list = np.array(object = list_)"
   ]
  },
  {
   "cell_type": "code",
   "execution_count": 2,
   "id": "1e285f79-1902-4060-99e0-ffdf1bbd5cb1",
   "metadata": {},
   "outputs": [
    {
     "data": {
      "text/plain": [
       "array(['1', '2', '3', '4', '5'], dtype='<U1')"
      ]
     },
     "execution_count": 2,
     "metadata": {},
     "output_type": "execute_result"
    }
   ],
   "source": [
    "array_list"
   ]
  },
  {
   "cell_type": "markdown",
   "id": "4b7f3f14-58bd-4e2a-bd0b-45f1b8c1c0bc",
   "metadata": {},
   "source": [
    "### Q1. Is there any difference in the data type of variables list_ and array_list? If there is then write a code to print the data types of both the variables."
   ]
  },
  {
   "cell_type": "markdown",
   "id": "0cb280b0-af86-4f01-86c6-7eb2561583c0",
   "metadata": {},
   "source": [
    "list_ has type of list type and array_list has type is array which is the concept of array."
   ]
  },
  {
   "cell_type": "code",
   "execution_count": 4,
   "id": "e71746e6-c732-4a43-8612-68db4ca4428e",
   "metadata": {},
   "outputs": [
    {
     "name": "stdout",
     "output_type": "stream",
     "text": [
      "<class 'list'>\n"
     ]
    }
   ],
   "source": [
    "print(type(list_))"
   ]
  },
  {
   "cell_type": "code",
   "execution_count": 5,
   "id": "438db4f9-6a00-448a-be28-6f33a0fea583",
   "metadata": {},
   "outputs": [
    {
     "name": "stdout",
     "output_type": "stream",
     "text": [
      "<class 'numpy.ndarray'>\n"
     ]
    }
   ],
   "source": [
    "print(type(array_list))"
   ]
  },
  {
   "cell_type": "markdown",
   "id": "42946811-83a4-4307-a619-2a272692705a",
   "metadata": {},
   "source": [
    "### Q2. Write a code to print the data type of each and every element of both the variables list_ and arra_list."
   ]
  },
  {
   "cell_type": "code",
   "execution_count": 8,
   "id": "5c3b8cf6-6902-44a3-abed-0e3e63083824",
   "metadata": {},
   "outputs": [
    {
     "name": "stdout",
     "output_type": "stream",
     "text": [
      "1  has  <class 'str'>\n",
      "2  has  <class 'str'>\n",
      "3  has  <class 'str'>\n",
      "4  has  <class 'str'>\n",
      "5  has  <class 'str'>\n"
     ]
    }
   ],
   "source": [
    "for i in list_:\n",
    "    print(i, \" has \",type(i))"
   ]
  },
  {
   "cell_type": "code",
   "execution_count": 12,
   "id": "10ec02fb-252a-40b3-ab2b-47cceab91c4d",
   "metadata": {},
   "outputs": [
    {
     "name": "stdout",
     "output_type": "stream",
     "text": [
      "this is the type array elements  <U1\n"
     ]
    }
   ],
   "source": [
    "print(\"this is the type array elements \" ,array_list.dtype)"
   ]
  },
  {
   "cell_type": "markdown",
   "id": "4cd9ac0a-f134-48c4-8396-29f927c6c571",
   "metadata": {},
   "source": [
    "### Q3. Considering the following changes in the variable, array_list:\n"
   ]
  },
  {
   "cell_type": "code",
   "execution_count": 14,
   "id": "86d63574-8838-4e6a-a9bf-0fa62d39dc67",
   "metadata": {},
   "outputs": [],
   "source": [
    "arra_list = np.array(object = list_, dtype = int)\n"
   ]
  },
  {
   "cell_type": "markdown",
   "id": "3357eebc-11e1-4d26-a429-6eb87441710c",
   "metadata": {},
   "source": [
    "##### Will there be any difference in the data type of the elements present in both the variables, list_ and arra_list? If so then print the data types of each and every element present in both the variables, list_ and arra_list."
   ]
  },
  {
   "cell_type": "markdown",
   "id": "82c26f47-9e8f-42b2-bf87-8bbb2d8026be",
   "metadata": {},
   "source": [
    "varible list elements has string datatype and in arra_list we have changed the data type into the string . as we can see in below example."
   ]
  },
  {
   "cell_type": "code",
   "execution_count": 15,
   "id": "da337103-57f6-4a2d-b01a-b11ea24ddf77",
   "metadata": {},
   "outputs": [
    {
     "name": "stdout",
     "output_type": "stream",
     "text": [
      "1  has  <class 'str'>\n",
      "2  has  <class 'str'>\n",
      "3  has  <class 'str'>\n",
      "4  has  <class 'str'>\n",
      "5  has  <class 'str'>\n"
     ]
    }
   ],
   "source": [
    "for i in list_:\n",
    "    print(i, \" has \",type(i))"
   ]
  },
  {
   "cell_type": "code",
   "execution_count": 16,
   "id": "27b846c9-17e3-4d09-a1de-d703b1139a78",
   "metadata": {},
   "outputs": [
    {
     "name": "stdout",
     "output_type": "stream",
     "text": [
      "this is the type array elements  int64\n"
     ]
    }
   ],
   "source": [
    "print(\"this is the type array elements \" ,arra_list.dtype)"
   ]
  },
  {
   "cell_type": "markdown",
   "id": "b5af8031-d5a0-42f4-a715-d6fe9b1ad543",
   "metadata": {},
   "source": [
    "#### AVAILABLE DATASET2"
   ]
  },
  {
   "cell_type": "code",
   "execution_count": 17,
   "id": "6edcdd6a-ce99-426d-b187-8bd237425ca6",
   "metadata": {},
   "outputs": [],
   "source": [
    "import numpy as np\n",
    "\n",
    "num_list = [ [ 1 , 2 , 3 ] , [ 4 , 5 , 6 ] ]\n",
    "\n",
    "num_array = np.array(object = num_list)"
   ]
  },
  {
   "cell_type": "code",
   "execution_count": 18,
   "id": "6297ea20-110b-4479-83c1-e6bd7fb9f396",
   "metadata": {},
   "outputs": [
    {
     "data": {
      "text/plain": [
       "array([[1, 2, 3],\n",
       "       [4, 5, 6]])"
      ]
     },
     "execution_count": 18,
     "metadata": {},
     "output_type": "execute_result"
    }
   ],
   "source": [
    "num_array"
   ]
  },
  {
   "cell_type": "markdown",
   "id": "bbb48b01-8998-4f2b-ac85-b53b4b517dfe",
   "metadata": {},
   "source": [
    "### Q4. Write a code to find the following characteristics of variable, num_array:\n"
   ]
  },
  {
   "cell_type": "markdown",
   "id": "8e23558b-2470-49e9-829f-083ecd59adb8",
   "metadata": {},
   "source": [
    "#### (i)\t shape\n"
   ]
  },
  {
   "cell_type": "markdown",
   "id": "9a328897-3635-4106-bd60-f6e6e0355e0d",
   "metadata": {},
   "source": [
    "#### Shape returns the shape of the data and size returns the size of data means no of elements available in the data."
   ]
  },
  {
   "cell_type": "code",
   "execution_count": 19,
   "id": "6af44de4-d202-43c5-be8e-c1996d10677c",
   "metadata": {},
   "outputs": [
    {
     "data": {
      "text/plain": [
       "(2, 3)"
      ]
     },
     "execution_count": 19,
     "metadata": {},
     "output_type": "execute_result"
    }
   ],
   "source": [
    "num_array.shape"
   ]
  },
  {
   "cell_type": "markdown",
   "id": "b30f4c0e-9b13-442a-8a51-aff484a4b76b",
   "metadata": {},
   "source": [
    "##### (ii) size\n"
   ]
  },
  {
   "cell_type": "code",
   "execution_count": 20,
   "id": "f2731fbb-bd57-4811-aec6-c6e8abdcc584",
   "metadata": {},
   "outputs": [
    {
     "data": {
      "text/plain": [
       "6"
      ]
     },
     "execution_count": 20,
     "metadata": {},
     "output_type": "execute_result"
    }
   ],
   "source": [
    "num_array.size"
   ]
  },
  {
   "cell_type": "markdown",
   "id": "de804ac2-22e6-4f35-af7a-a9cf15710e1c",
   "metadata": {},
   "source": [
    "### Q5. Write a code to create numpy array of 3*3 matrix containing zeros only, using a numpy array creation function."
   ]
  },
  {
   "cell_type": "markdown",
   "id": "7f0ce47d-c5c4-4e34-934c-7ac694d33408",
   "metadata": {},
   "source": [
    "#### [Hint: The size of the array will be 9 and the shape will be (3,3).]\n"
   ]
  },
  {
   "cell_type": "code",
   "execution_count": 21,
   "id": "d5b99d26-627e-4776-963a-a67b3306b684",
   "metadata": {},
   "outputs": [
    {
     "data": {
      "text/plain": [
       "array([[0., 0., 0.],\n",
       "       [0., 0., 0.],\n",
       "       [0., 0., 0.]])"
      ]
     },
     "execution_count": 21,
     "metadata": {},
     "output_type": "execute_result"
    }
   ],
   "source": [
    "np.zeros((3,3))"
   ]
  },
  {
   "cell_type": "markdown",
   "id": "8c4031f5-7353-4b66-9ed6-cd60e11942f7",
   "metadata": {
    "tags": []
   },
   "source": [
    "### Q6. Create an identity matrix of shape (5,5) using numpy functions?\n"
   ]
  },
  {
   "cell_type": "markdown",
   "id": "be2689a6-9938-40cd-8d40-ff1b1cc678d2",
   "metadata": {},
   "source": [
    "#### [Hint: An identity matrix is a matrix containing 1 diagonally and other elements will be 0.]\n"
   ]
  },
  {
   "cell_type": "code",
   "execution_count": 25,
   "id": "e429c530-2d5c-4a4d-8ec4-f86734364f85",
   "metadata": {},
   "outputs": [
    {
     "data": {
      "text/plain": [
       "array([[1., 0., 0., 0., 0.],\n",
       "       [0., 1., 0., 0., 0.],\n",
       "       [0., 0., 1., 0., 0.],\n",
       "       [0., 0., 0., 1., 0.],\n",
       "       [0., 0., 0., 0., 1.]])"
      ]
     },
     "execution_count": 25,
     "metadata": {},
     "output_type": "execute_result"
    }
   ],
   "source": [
    "np.identity(5)"
   ]
  },
  {
   "cell_type": "markdown",
   "id": "96147806-550b-492f-b8ca-8be8b30dc843",
   "metadata": {},
   "source": [
    "## END"
   ]
  },
  {
   "cell_type": "code",
   "execution_count": null,
   "id": "f684f813-11ad-4800-abee-adf19621e5ca",
   "metadata": {},
   "outputs": [],
   "source": []
  }
 ],
 "metadata": {
  "kernelspec": {
   "display_name": "Python 3 (ipykernel)",
   "language": "python",
   "name": "python3"
  },
  "language_info": {
   "codemirror_mode": {
    "name": "ipython",
    "version": 3
   },
   "file_extension": ".py",
   "mimetype": "text/x-python",
   "name": "python",
   "nbconvert_exporter": "python",
   "pygments_lexer": "ipython3",
   "version": "3.10.8"
  }
 },
 "nbformat": 4,
 "nbformat_minor": 5
}
