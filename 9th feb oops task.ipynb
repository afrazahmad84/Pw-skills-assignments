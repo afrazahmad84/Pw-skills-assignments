{
 "cells": [
  {
   "cell_type": "markdown",
   "id": "e0bb58e9-0dc2-458b-ad04-d60bb9ba287b",
   "metadata": {},
   "source": [
    "#### Q1, Create a vehicle class with an init method having instance variables as name_of_vehicle, max_speed and average_of_vehicle.\n",
    "\n"
   ]
  },
  {
   "cell_type": "code",
   "execution_count": 17,
   "id": "57c4c166-8b3d-48ca-8fb7-82c74dd12b0c",
   "metadata": {},
   "outputs": [],
   "source": [
    "class vehicle:\n",
    "    def __init__(self,name_of_vehicle,max_speed,average_of_vehicle):\n",
    "        self.name_of_vehicle = name_of_vehicle\n",
    "        self.max_speed = max_speed\n",
    "        self.average_of_vehicle = average_of_vehicle\n",
    "        \n",
    "    def vehicle_name(self):   \n",
    "        return self.name_of_vehicle\n",
    "        \n",
    "        "
   ]
  },
  {
   "cell_type": "markdown",
   "id": "747e1b9f-1c55-4131-a522-507d83488db1",
   "metadata": {},
   "source": [
    "#### Q2. Create a child class car from the vehicle class created in Que 1, which will inherit the vehicle class.Create a method named seating_capacity which takes capacity as an argument and returns the name of the vehicle and its seating capacity.\n",
    "\n"
   ]
  },
  {
   "cell_type": "code",
   "execution_count": 18,
   "id": "31f5ba80-a820-47e5-b0d5-c7034c77f9e8",
   "metadata": {},
   "outputs": [],
   "source": [
    "class car(vehicle):\n",
    "    def seating_capacity(self,capacity):\n",
    "        return capacity"
   ]
  },
  {
   "cell_type": "code",
   "execution_count": 19,
   "id": "f7d33d92-51a7-4f20-a54e-8705e0ebc190",
   "metadata": {},
   "outputs": [],
   "source": [
    "obj_car = car('toyota',150,90)"
   ]
  },
  {
   "cell_type": "code",
   "execution_count": 20,
   "id": "7e93d779-08dc-43a8-9546-f3dcc2d02f1e",
   "metadata": {},
   "outputs": [
    {
     "data": {
      "text/plain": [
       "34"
      ]
     },
     "execution_count": 20,
     "metadata": {},
     "output_type": "execute_result"
    }
   ],
   "source": [
    "obj_car.seating_capacity(34)"
   ]
  },
  {
   "cell_type": "code",
   "execution_count": 21,
   "id": "aa0c4dba-696c-4a89-9154-97b3cd309e29",
   "metadata": {},
   "outputs": [
    {
     "data": {
      "text/plain": [
       "'toyota'"
      ]
     },
     "execution_count": 21,
     "metadata": {},
     "output_type": "execute_result"
    }
   ],
   "source": [
    "obj_car.vehicle_name()"
   ]
  },
  {
   "cell_type": "markdown",
   "id": "2f4e9250-55d7-4431-97cb-3109c3658f88",
   "metadata": {},
   "source": [
    "#### Q3. What is multiple inheritance? Write a python code to demonstrate multiple inheritance."
   ]
  },
  {
   "cell_type": "markdown",
   "id": "7305968d-ed8e-4344-8f06-ec8356468b2d",
   "metadata": {},
   "source": [
    "Multiple inheritance inherit the property within multiple levels\n",
    "\n",
    "like \n",
    "parent class             level 1\n",
    "    ->\n",
    "child class              level 2\n",
    "    ->\n",
    "child's child class      level 3"
   ]
  },
  {
   "cell_type": "code",
   "execution_count": 32,
   "id": "642b0b15-ba4e-4e27-8ce1-3427446d8556",
   "metadata": {},
   "outputs": [],
   "source": [
    "class parent:\n",
    "    def parent_meth(self):\n",
    "        return 'this is parent class method'\n",
    "    \n",
    "    "
   ]
  },
  {
   "cell_type": "code",
   "execution_count": 33,
   "id": "7557361d-ff7b-4d03-8ae8-986de035f49a",
   "metadata": {},
   "outputs": [],
   "source": [
    "class child1(parent):\n",
    "    def child1_meth(self):\n",
    "        return 'this is child 1 class method'"
   ]
  },
  {
   "cell_type": "code",
   "execution_count": 34,
   "id": "562a819b-1706-4885-81b3-f7ee88d1c2c4",
   "metadata": {},
   "outputs": [],
   "source": [
    "class child2(child1):\n",
    "    def child2_meth(self):\n",
    "        return 'this ks child 2 class methot'"
   ]
  },
  {
   "cell_type": "code",
   "execution_count": 35,
   "id": "9460f71f-11be-4d1b-9d61-b826640cac77",
   "metadata": {},
   "outputs": [],
   "source": [
    "obj_child2 = child2()\n"
   ]
  },
  {
   "cell_type": "code",
   "execution_count": 36,
   "id": "bb780604-a1c6-469e-85cf-aafa0f7c9164",
   "metadata": {},
   "outputs": [
    {
     "data": {
      "text/plain": [
       "'this is parent class method'"
      ]
     },
     "execution_count": 36,
     "metadata": {},
     "output_type": "execute_result"
    }
   ],
   "source": [
    "obj_child2.parent_meth()"
   ]
  },
  {
   "cell_type": "code",
   "execution_count": 37,
   "id": "cc0cf3c9-8daf-4e5d-9ad6-44b64a12fb4e",
   "metadata": {},
   "outputs": [
    {
     "data": {
      "text/plain": [
       "'this is child 1 class method'"
      ]
     },
     "execution_count": 37,
     "metadata": {},
     "output_type": "execute_result"
    }
   ],
   "source": [
    "obj_child2.child1_meth()"
   ]
  },
  {
   "cell_type": "code",
   "execution_count": 38,
   "id": "868dee5d-b96f-4422-8e31-c1e103ec07b4",
   "metadata": {},
   "outputs": [
    {
     "data": {
      "text/plain": [
       "'this ks child 2 class methot'"
      ]
     },
     "execution_count": 38,
     "metadata": {},
     "output_type": "execute_result"
    }
   ],
   "source": [
    "obj_child2.child2_meth()"
   ]
  },
  {
   "cell_type": "markdown",
   "id": "577f5c0d-7a67-4891-9b92-400c174f2e71",
   "metadata": {},
   "source": [
    "#### Q4. What are getter and setter in python? Create a class and create a getter and a setter method in this class.\n"
   ]
  },
  {
   "cell_type": "markdown",
   "id": "16d91829-e9a9-4b14-a1dd-0ca1ab1fe7a6",
   "metadata": {},
   "source": [
    "getter function is used to get or access the value in pythob and setter is used to set the value "
   ]
  },
  {
   "cell_type": "code",
   "execution_count": 2,
   "id": "dd712251-695b-4ec0-8a83-90fa35a74521",
   "metadata": {},
   "outputs": [],
   "source": [
    "class pwskills:\n",
    "    \n",
    "    def __init__(self,course_price,course_name):\n",
    "        \n",
    "        self.__course_price = course_price\n",
    "        self.course_name = course_name\n",
    "        \n",
    "        \n",
    "        \n",
    "    @property\n",
    "    def course_price_access(self):\n",
    "        return self.__course_price\n",
    "    \n",
    "    @course_price_access.setter\n",
    "    def course_price_set(self,price):\n",
    "        if price <= 3500:\n",
    "            pass\n",
    "        else:\n",
    "            self.__course_price = price\n",
    "            \n",
    "            \n",
    "    @course_price_access.deleter\n",
    "    def delete_course_price(self):\n",
    "        del self.__course_price\n",
    "    "
   ]
  },
  {
   "cell_type": "markdown",
   "id": "c1d6cda9-22fb-4924-9e2e-71f68e5f0d29",
   "metadata": {},
   "source": [
    "#### Q5.What is method overriding in python? Write a python code to demonstrate method overriding."
   ]
  },
  {
   "cell_type": "markdown",
   "id": "a29756f8-5e1e-445f-a92a-f3c3c424790d",
   "metadata": {},
   "source": [
    "Method overriding is a concept of object oriented programming that allows us to change the implementation of a function in the child class that is defined in the parent class. It is the ability of a child class to change the implementation of any method which is already provided by one of its parent class(ancestors)."
   ]
  },
  {
   "cell_type": "code",
   "execution_count": 3,
   "id": "a5bf085d-c0f9-46b3-96aa-ab58421db2e5",
   "metadata": {},
   "outputs": [
    {
     "name": "stdout",
     "output_type": "stream",
     "text": [
      "Function defined in parent class!\n"
     ]
    }
   ],
   "source": [
    "# parent class\n",
    "class Parent:\n",
    "    # some random function\n",
    "    def anything(self):\n",
    "        print('Function defined in parent class!')\n",
    "        \n",
    "# child class\n",
    "class Child(Parent):\n",
    "    # empty class definition\n",
    "    pass\n",
    "\n",
    "\n",
    "obj2 = Child()\n",
    "obj2.anything()\n"
   ]
  },
  {
   "cell_type": "code",
   "execution_count": null,
   "id": "df83fdaa-299c-4a6d-8375-5f9462895033",
   "metadata": {},
   "outputs": [],
   "source": []
  }
 ],
 "metadata": {
  "kernelspec": {
   "display_name": "Python 3 (ipykernel)",
   "language": "python",
   "name": "python3"
  },
  "language_info": {
   "codemirror_mode": {
    "name": "ipython",
    "version": 3
   },
   "file_extension": ".py",
   "mimetype": "text/x-python",
   "name": "python",
   "nbconvert_exporter": "python",
   "pygments_lexer": "ipython3",
   "version": "3.10.8"
  }
 },
 "nbformat": 4,
 "nbformat_minor": 5
}
