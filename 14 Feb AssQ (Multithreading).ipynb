{
 "cells": [
  {
   "cell_type": "markdown",
   "id": "dd3926a7-c3ad-40e4-bddc-14df4480fdd4",
   "metadata": {},
   "source": [
    "#### Q1. What is multithreading in python? Why is it used? Name the module used to handle threads in python."
   ]
  },
  {
   "cell_type": "markdown",
   "id": "6df3efd1-c8db-4c63-bab8-4c4cd2b8d5ca",
   "metadata": {},
   "source": [
    "Multithreading makes multitasking possible when it breaks programs into smaller, executable threads. Each thread has the programming elements needed to execute the main program, and the computer executes each thread one at a time.\n",
    "\n",
    "import threading \n",
    "\n",
    "threading module is used to perform thread....\n"
   ]
  },
  {
   "cell_type": "markdown",
   "id": "67e1aec6-1d96-494d-8927-634051e2c5c7",
   "metadata": {},
   "source": [
    "#### Q2. Why threading module used? Write the use of the following functions\n"
   ]
  },
  {
   "cell_type": "markdown",
   "id": "477944f6-77e9-4802-b3b4-3a7d068503ee",
   "metadata": {},
   "source": [
    "1. activeCount()\n",
    "\n",
    "2.currentThread()\n",
    "\n",
    "3.enumerate()"
   ]
  },
  {
   "cell_type": "markdown",
   "id": "9b19c4cb-113f-40ae-b408-f0046c4bed87",
   "metadata": {},
   "source": [
    "activeCount() - Return the number of Thread objects currently alive.The returned count is equal to the length of the list returned by enumerate().\n",
    "\n",
    "currentThread() - Return the current Thread object, corresponding to the caller's thread of control.This function is deprecated, use current_thread() instead.\n",
    "\n",
    "enumerate() - Return a list of all Thread objects currently alive.The list includes daemonic threads, dummy thread objects created by current_thread(), and the main thread. It excludes terminated threads and threads that have not yet been started."
   ]
  },
  {
   "cell_type": "markdown",
   "id": "a527b373-5721-40f4-9695-6c6b44c68020",
   "metadata": {},
   "source": [
    "#### Q3. Explain the following functions"
   ]
  },
  {
   "cell_type": "markdown",
   "id": "3aa9a4ab-01e0-4c71-b1a2-674b55238a01",
   "metadata": {},
   "source": [
    "1. run()\n",
    "\n",
    "2. start()\n",
    "\n",
    "3. join()\n",
    "\n",
    "4. isAlive()"
   ]
  },
  {
   "cell_type": "markdown",
   "id": "ff079cd9-dfb1-46a9-afb2-8479e2518fbf",
   "metadata": {},
   "source": [
    "run() - Method representing the thread's activity. You may override this method in a subclass. The standard run() method invokes the callable object passed to the object's constructor as the target argument, if any, with sequential and keyword arguments taken from the args and kwargs arguments, respectively.\n",
    "\n",
    "start() - Start the thread's activity. It must be called at most once per thread object. It arranges for the object's run() method to be invoked in a separate thread of control.\n",
    "\n",
    "join() - Wait until the thread terminates. This blocks the calling thread until the thread whose join() method is called terminates -- either normally or through an unhandled exceptionor until the optional timeout occurs. When the timeout argument is present and not None, it should be afloating point number specifying a timeout for the operation in seconds (or fractions thereof). As join() always returns None, you must callis_alive() after join() to decide whether a timeout happened -- if the thread is still alive, the join() call timed out. When the timeout argument is not present or None, the operation will block until the thread terminates.A thread can be join()ed many times.\n",
    "\n",
    "isalive() - This method returns True just before the run() method starts until just after the run() method terminates\n",
    "\n"
   ]
  },
  {
   "cell_type": "markdown",
   "id": "6cd54fc5-6bb1-46eb-80df-09d9e5cc8c3f",
   "metadata": {},
   "source": [
    "#### Q4. Write a python program to create two threads. Thread one must print the list of squares and thread two must print the list of cubes"
   ]
  },
  {
   "cell_type": "code",
   "execution_count": 46,
   "id": "23465469-24fe-4946-9801-99792d5ffdf6",
   "metadata": {},
   "outputs": [],
   "source": [
    "\n",
    "def calc_square(numbers):\n",
    "    l1=[]\n",
    "    for n in numbers:\n",
    "        l1.append(n*n)\n",
    "        \n",
    "    print(l1)\n",
    "    \n",
    "    \n",
    "def calc_cube(numbers):\n",
    "    l2 = []\n",
    "    for n in numbers:\n",
    "        l2.append(n**3)\n",
    "    print(l2)    "
   ]
  },
  {
   "cell_type": "code",
   "execution_count": 51,
   "id": "b2f45739-4a33-42b0-bf1e-db40e75eae6a",
   "metadata": {},
   "outputs": [
    {
     "name": "stdout",
     "output_type": "stream",
     "text": [
      "[1, 4, 9, 16]\n",
      "[1, 8, 27, 64]\n"
     ]
    },
    {
     "data": {
      "text/plain": [
       "8"
      ]
     },
     "execution_count": 51,
     "metadata": {},
     "output_type": "execute_result"
    }
   ],
   "source": [
    "import threading\n",
    "\n",
    "numbers = [1, 2, 3, 4]\n",
    "square_thread = threading.Thread(target=calc_square, args=(numbers,))\n",
    "cube_thread = threading.Thread(target=calc_cube, args=(numbers,))\n",
    "\n",
    "square_thread.start()\n",
    "cube_thread.start()\n",
    "    \n",
    "\n",
    "\n",
    "threading.enumerate"
   ]
  },
  {
   "cell_type": "markdown",
   "id": "6a7560f9-b1b2-4a6f-9037-3cea79daab6a",
   "metadata": {},
   "source": [
    "#### Q5. State advantages and disadvantages of multithreading"
   ]
  },
  {
   "cell_type": "markdown",
   "id": "7db22fa8-5171-417d-bd19-3f035f92b9c8",
   "metadata": {},
   "source": [
    "ADVANTAGE-\n",
    "\n",
    "Enhanced performance by decreased development time\n",
    "\n",
    "Simplified and streamlined program coding\n",
    "\n",
    "Improvised GUI responsiveness\n",
    "\n",
    "Simultaneous and parallelized occurrence of tasks\n",
    "\n",
    "Better use of cache storage by utilization of resources\n",
    "\n",
    "Decreased cost of maintenance\n",
    "\n",
    "Better use of CPU resource"
   ]
  },
  {
   "cell_type": "markdown",
   "id": "2e0f0579-6ea7-41ce-9d37-b8444d6881ec",
   "metadata": {},
   "source": [
    "DISADVANTAGE:\n",
    "\n",
    "Difficulty of writing code. Multithreaded and multicontexted applications are not easy to write.\n",
    "\n",
    "Difficulty of debugging.\n",
    "\n",
    "Difficulty of managing concurrency.\n",
    "\n",
    "Difficulty of testing.\n",
    "\n",
    "Difficulty of porting existing code."
   ]
  },
  {
   "cell_type": "markdown",
   "id": "dff28358-0c8b-4633-a9af-b63e295ebdc9",
   "metadata": {},
   "source": [
    "#### Q6. Explain deadlocks and race conditions."
   ]
  },
  {
   "cell_type": "markdown",
   "id": "19435d1d-3dd6-40b4-8d48-0bf25e373ea2",
   "metadata": {},
   "source": [
    "When two processes are waiting for each other directly or indirectly, it is called deadlock. This usually occurs when two processes are waiting for shared resources acquired by others. For example, If thread T1 acquired resource R1 and it also needs resource R2 for it to accomplish its task. \n",
    "\n",
    "Both share some similarities, such as they both occur in multi-thread solutions and hamper device performance. However, both are not the same. A race condition occurs when two threads use the same variable at a given time. Deadlock exists when two threads seek one lock simultaneously"
   ]
  },
  {
   "cell_type": "code",
   "execution_count": null,
   "id": "6e2e6553-9a37-40a2-bd21-1185dae20227",
   "metadata": {},
   "outputs": [],
   "source": []
  }
 ],
 "metadata": {
  "kernelspec": {
   "display_name": "Python 3 (ipykernel)",
   "language": "python",
   "name": "python3"
  },
  "language_info": {
   "codemirror_mode": {
    "name": "ipython",
    "version": 3
   },
   "file_extension": ".py",
   "mimetype": "text/x-python",
   "name": "python",
   "nbconvert_exporter": "python",
   "pygments_lexer": "ipython3",
   "version": "3.10.8"
  }
 },
 "nbformat": 4,
 "nbformat_minor": 5
}
