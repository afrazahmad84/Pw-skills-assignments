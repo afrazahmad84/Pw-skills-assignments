{
 "cells": [
  {
   "cell_type": "markdown",
   "id": "af25c52c-c44b-4c1a-bee9-e537ff32c3ac",
   "metadata": {},
   "source": [
    "#### Q1. What is Abstraction in OOps? Explain with an example.\n",
    "\n",
    "\n"
   ]
  },
  {
   "cell_type": "markdown",
   "id": "7cf0c359-4ebb-43a2-bff8-fe3aa5738a93",
   "metadata": {},
   "source": [
    "We can define an abstract method using @abstractmethod keyword on the top of a method. We can use abc module of python to achieve data abstraction in python. To define an abstract method in python we can import abstractmethod from the abc module of python."
   ]
  },
  {
   "cell_type": "code",
   "execution_count": 6,
   "id": "e5053241-62ce-46df-a846-9ae4671fdddd",
   "metadata": {},
   "outputs": [],
   "source": [
    "import abc\n",
    "class pwskills:\n",
    "    \n",
    "    @abc.abstractmethod\n",
    "    def students_details(self):\n",
    "        pass\n",
    "    \n",
    "    @abc.abstractmethod\n",
    "    def student_assignment(self):\n",
    "        pass\n",
    "    \n",
    "    @abc.abstractmethod\n",
    "    def student_marks(self):\n",
    "        pass"
   ]
  },
  {
   "cell_type": "markdown",
   "id": "95a056c4-dd5b-4e74-822a-7719a4f257d6",
   "metadata": {},
   "source": [
    "#### Q2. Differentiate between Abstraction and Encapsulation. Explain with an example.\n"
   ]
  },
  {
   "cell_type": "markdown",
   "id": "34bb165c-e1ec-46c3-8ef6-87742aae7841",
   "metadata": {},
   "source": [
    "Abstraction is an scalaton of any class we can use it further.\n",
    "Encapsulation is nothing but hiding the functionality what is happening in back end"
   ]
  },
  {
   "cell_type": "code",
   "execution_count": 1,
   "id": "791bee67-fb62-4ef7-8f1c-b5ce2942314e",
   "metadata": {},
   "outputs": [],
   "source": [
    "import abc\n",
    "class pwskills:\n",
    "    \n",
    "    @abc.abstractmethod\n",
    "    def students_details(self):\n",
    "        pass\n",
    "    \n",
    "    @abc.abstractmethod\n",
    "    def student_assignment(self):\n",
    "        pass\n",
    "    \n",
    "    @abc.abstractmethod\n",
    "    def student_marks(self):\n",
    "        pass      \n",
    "    \n",
    "    "
   ]
  },
  {
   "cell_type": "code",
   "execution_count": 2,
   "id": "edfa51cf-d6da-48bb-9f14-3fb5223b170b",
   "metadata": {},
   "outputs": [],
   "source": [
    "class student_details(pwskills):\n",
    "    \n",
    "    def students_details(self):\n",
    "        return 'this is a method for taking student details'\n",
    "    \n",
    "    def student_assignment(self):\n",
    "        return 'this is a meth for assign details for a particular student'\n",
    "    \n",
    "    \n",
    "    \n",
    "    "
   ]
  },
  {
   "cell_type": "code",
   "execution_count": 3,
   "id": "c6ab9c1a-9667-405e-9746-5f56a1c30f75",
   "metadata": {},
   "outputs": [],
   "source": [
    "class car:\n",
    "    def __init__(self,year,make,model,speed):\n",
    "        self.__year = year\n",
    "        self.__make = make\n",
    "        self.__model = model\n",
    "        self.__speed = 0\n",
    "        \n",
    "    def set_speed(self,speed):\n",
    "        self.__speed = 0 if speed <0 else speed\n",
    "        \n",
    "    def get_speed(self):\n",
    "        return self.__speed\n",
    "        "
   ]
  },
  {
   "cell_type": "code",
   "execution_count": 4,
   "id": "37d72b2e-bfa4-4bb9-a072-57f27e1ab47e",
   "metadata": {},
   "outputs": [],
   "source": [
    "c = car(2021,'toyota','innova',12)"
   ]
  },
  {
   "cell_type": "code",
   "execution_count": 5,
   "id": "5df862f4-7352-401c-a363-52160bd633c2",
   "metadata": {},
   "outputs": [
    {
     "data": {
      "text/plain": [
       "0"
      ]
     },
     "execution_count": 5,
     "metadata": {},
     "output_type": "execute_result"
    }
   ],
   "source": [
    "c.get_speed()"
   ]
  },
  {
   "cell_type": "code",
   "execution_count": null,
   "id": "b50fef10-d056-4d25-8a31-3fe6c5901954",
   "metadata": {},
   "outputs": [],
   "source": []
  },
  {
   "cell_type": "markdown",
   "id": "d684449f-930f-4eda-87fc-c72d8981c0c1",
   "metadata": {},
   "source": [
    "#### Q3. What is abc module in python? Why is it used?"
   ]
  },
  {
   "cell_type": "markdown",
   "id": "989ab824-e5f4-4939-9311-b1a0c885b655",
   "metadata": {},
   "source": [
    "\"ABC\" module is an library in python which provides an infrastructure for definiting custom abstract class."
   ]
  },
  {
   "cell_type": "markdown",
   "id": "183e960d-869f-4caf-8449-8b35723913e5",
   "metadata": {},
   "source": [
    "#### Q4. How can we achieve data abstraction?"
   ]
  },
  {
   "cell_type": "markdown",
   "id": "e2bc1289-f835-4ae3-8cfe-a9f2c1e6ecad",
   "metadata": {},
   "source": [
    "\n",
    "We can achieve data abstraction through Abstract classes and interfaces. Through abstract classes, you can achieve partial or complete abstraction as abstract classes contain methods that have an implementation which can result in partial abstraction."
   ]
  },
  {
   "cell_type": "markdown",
   "id": "682db148-e8e1-4baa-ba0e-cc84cfd1c824",
   "metadata": {},
   "source": [
    "#### Q5. Can we create an instance of an abstract class? Explain your answer."
   ]
  },
  {
   "cell_type": "markdown",
   "id": "2e125b77-4732-470d-bf1f-384f77636184",
   "metadata": {},
   "source": [
    "ANS -  No we cannot create any instnce of any class because it is not complete."
   ]
  },
  {
   "cell_type": "code",
   "execution_count": null,
   "id": "d0abf094-7850-4ea9-8785-9f2099003522",
   "metadata": {},
   "outputs": [],
   "source": []
  }
 ],
 "metadata": {
  "kernelspec": {
   "display_name": "Python 3 (ipykernel)",
   "language": "python",
   "name": "python3"
  },
  "language_info": {
   "codemirror_mode": {
    "name": "ipython",
    "version": 3
   },
   "file_extension": ".py",
   "mimetype": "text/x-python",
   "name": "python",
   "nbconvert_exporter": "python",
   "pygments_lexer": "ipython3",
   "version": "3.10.8"
  }
 },
 "nbformat": 4,
 "nbformat_minor": 5
}
