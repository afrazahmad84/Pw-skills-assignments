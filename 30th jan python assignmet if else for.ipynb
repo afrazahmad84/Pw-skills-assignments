{
 "cells": [
  {
   "cell_type": "markdown",
   "id": "4b81c35f-1839-4746-b310-46c63e0c09c7",
   "metadata": {},
   "source": [
    "## 1. Write a program to accept percentage from the user and display the grade according to the following \n",
    "\n"
   ]
  },
  {
   "cell_type": "markdown",
   "id": "ef3e0e5b-5b46-4682-91e6-59931a88989f",
   "metadata": {},
   "source": [
    "Marks \n",
    "Grade \n",
    ">90 \n",
    "A \n",
    ">80 and <=90 \n",
    "B \n",
    ">=60 and <=80 \n",
    "C \n",
    "below 60 \n",
    "D \n"
   ]
  },
  {
   "cell_type": "code",
   "execution_count": 5,
   "id": "6be81938-9db3-412b-884a-5a40f17a3b25",
   "metadata": {},
   "outputs": [
    {
     "name": "stdin",
     "output_type": "stream",
     "text": [
      "enter grades to find the percentage 55\n"
     ]
    },
    {
     "name": "stdout",
     "output_type": "stream",
     "text": [
      "the percentage is  D\n"
     ]
    }
   ],
   "source": [
    "grade = int(input(\"enter grades to find the percentage\"))\n",
    "\n",
    "if grade > 90:\n",
    "    print(\"the percentage is \",\"A\")\n",
    "elif grade > 80 and grade <=90:\n",
    "    print(\"the percentage is \",\"B\")\n",
    "elif grade >=60 and grade <=80:\n",
    "    print(\"the percentage is \",\"C\")\n",
    "else:\n",
    "    print(\"the percentage is \",\"D\")\n",
    "    \n",
    "    \n",
    "    \n",
    "   \n",
    "    "
   ]
  },
  {
   "cell_type": "markdown",
   "id": "308b0d97-3334-4c6a-9cf2-5a4584d8fd13",
   "metadata": {},
   "source": [
    "## 2. Write a program to accept the cost price of a bike and display the road tax to be paid according to the following criteria: "
   ]
  },
  {
   "cell_type": "code",
   "execution_count": null,
   "id": "f059db76-0089-4d3d-8442-9dc4997b5bb9",
   "metadata": {},
   "outputs": [],
   "source": [
    "Tax                      cost price(in Rs)\n",
    "15%                      >1000000\n",
    "10%                      >50000 and <=100000\n",
    "5%                       < = 50000"
   ]
  },
  {
   "cell_type": "code",
   "execution_count": 13,
   "id": "7ebfe6b7-e54d-49e6-87ae-876fd9e41f8f",
   "metadata": {},
   "outputs": [
    {
     "name": "stdin",
     "output_type": "stream",
     "text": [
      "enter grades to find the percentage 45000\n"
     ]
    },
    {
     "name": "stdout",
     "output_type": "stream",
     "text": [
      "the Tax is  5 %\n"
     ]
    }
   ],
   "source": [
    "price = int(input(\"enter grades to find the percentage\"))\n",
    "\n",
    "if price > 1000000:\n",
    "    print(\"the Tax is \",15,\"%\")\n",
    "elif price > 50000 and grade <=1000000:\n",
    "    print(\"the Tax is \",10,\"%\")\n",
    "elif price <= 50000:\n",
    "    print(\"the Tax is \",5,\"%\")\n",
    "\n",
    "  "
   ]
  },
  {
   "cell_type": "markdown",
   "id": "406b9525-ea68-4961-9adf-43b2f30f6858",
   "metadata": {},
   "source": [
    "## 3. Accept any city from the user and display monuments of that city."
   ]
  },
  {
   "cell_type": "code",
   "execution_count": null,
   "id": "4b186414-9a83-4f59-84e7-08d5ee5483ef",
   "metadata": {},
   "outputs": [],
   "source": [
    "City                    Monument\n",
    "Delhi                   Red Fort\n",
    "Agra                    Taj Mahal\n",
    "Jaipur                  Jai Mahal"
   ]
  },
  {
   "cell_type": "code",
   "execution_count": 20,
   "id": "13878c67-2b9b-4c6e-a0e4-aba595aee2e2",
   "metadata": {},
   "outputs": [
    {
     "name": "stdin",
     "output_type": "stream",
     "text": [
      "enter the city to find out the monument--- Up\n"
     ]
    },
    {
     "name": "stdout",
     "output_type": "stream",
     "text": [
      "Wrong choice please enter available city like Delhi , Agra  or Jaipur\n"
     ]
    }
   ],
   "source": [
    "city = input(\"enter the city to find out the monument---\")\n",
    "\n",
    "if city == \"Delhi\":\n",
    "    print(\"The monument of \",city,\"is \",\"Red Fort\")\n",
    "elif city == \"Agra\":\n",
    "    print(\"The monument of \",city,\"is \",\"Taj Mahal\")\n",
    "elif city == \"Jaipur\":\n",
    "    print(\"The monument of \",city,\"is \",\"Jai Mahal\")    \n",
    "    \n",
    "elif city not in (\"Delhi\",\"Agra\",\"Jaipur\"):\n",
    "    print(\"Wrong choice please enter available city like Delhi , Agra  or Jaipur\")"
   ]
  },
  {
   "cell_type": "markdown",
   "id": "79722774-1060-4fbb-a101-132a91041afd",
   "metadata": {},
   "source": [
    "## 4. Check how many times a given number can be divided by 3 before it is less than or equal to 10. "
   ]
  },
  {
   "cell_type": "code",
   "execution_count": 40,
   "id": "41ff35a7-d89b-473b-907c-4886c632562e",
   "metadata": {},
   "outputs": [
    {
     "name": "stdout",
     "output_type": "stream",
     "text": [
      "count is  3\n"
     ]
    }
   ],
   "source": [
    "count = 0\n",
    "for i in range(1,11):\n",
    "    if i%3 == 0:\n",
    "        count=count+1\n",
    "        \n",
    "print(\"count is \",count)        "
   ]
  },
  {
   "cell_type": "markdown",
   "id": "e7712c32-54ca-4018-a93d-b8c2afed0eb0",
   "metadata": {},
   "source": [
    "## 5. Why and When to Use while Loop in Python give a detailed description with example "
   ]
  },
  {
   "cell_type": "code",
   "execution_count": 41,
   "id": "739a6755-ef6d-4c5e-ae71-62232a41ee71",
   "metadata": {},
   "outputs": [
    {
     "name": "stdout",
     "output_type": "stream",
     "text": [
      "5 10 15 20 25 30 35 40 45 50 "
     ]
    }
   ],
   "source": [
    "# the purpose of using while loop to itrate the items again and again so that we can save time \n",
    "# where we are doing the same task we need to itrate the itrate the items or elements\n",
    "\n",
    "i = 1\n",
    "while i<=10:\n",
    "    print(5*i,end=\" \" )\n",
    "    i=i+1\n",
    "    \n",
    "    "
   ]
  },
  {
   "cell_type": "markdown",
   "id": "97a5a2e1-7f86-406f-8a16-18da15d3a477",
   "metadata": {},
   "source": [
    "## 6. Use nested while loop to print 3 different pattern. "
   ]
  },
  {
   "cell_type": "code",
   "execution_count": 27,
   "id": "31bbb73e-c557-49c8-9182-b37e6410efbb",
   "metadata": {},
   "outputs": [
    {
     "name": "stdout",
     "output_type": "stream",
     "text": [
      "* \n",
      "* * \n",
      "* * * \n",
      "* * * * \n",
      "* * * * * \n"
     ]
    }
   ],
   "source": [
    "#pattern 1\n",
    "for i in range(5):\n",
    "    for j in range(0,i+1):\n",
    "        print(\"*\",end=\" \")\n",
    "    print()    "
   ]
  },
  {
   "cell_type": "code",
   "execution_count": 31,
   "id": "81ac1b5b-9001-4957-b02a-3f5c32831dfc",
   "metadata": {},
   "outputs": [
    {
     "name": "stdout",
     "output_type": "stream",
     "text": [
      "* * * * * * \n",
      "* * * * * \n",
      "* * * * \n",
      "* * * \n",
      "* * \n",
      "* \n"
     ]
    }
   ],
   "source": [
    "#pattern 2\n",
    "for i in range(5,-1,-1):\n",
    "    for j in range(0,i+1):\n",
    "        print(\"*\",end=\" \")\n",
    "    print()    "
   ]
  },
  {
   "cell_type": "code",
   "execution_count": 35,
   "id": "27af4a07-0d48-4edf-865e-00582f3218fb",
   "metadata": {},
   "outputs": [
    {
     "name": "stdout",
     "output_type": "stream",
     "text": [
      "1 2 3 4 5 \n",
      "1 2 3 4 5 \n",
      "1 2 3 4 5 \n",
      "1 2 3 4 5 \n",
      "1 2 3 4 5 \n"
     ]
    }
   ],
   "source": [
    "#pattern 3\n",
    "for i in range(1,6):\n",
    "    for j in range(1,6):\n",
    "        print(j,end=\" \")\n",
    "    print()    "
   ]
  },
  {
   "cell_type": "markdown",
   "id": "f712288e-1c63-4e06-8f57-269518d548e4",
   "metadata": {},
   "source": [
    "## 7. Reverse a for loop to display numbers from 10 to 1. "
   ]
  },
  {
   "cell_type": "code",
   "execution_count": 21,
   "id": "0d784abb-f370-41d5-ad43-799f8171e5f5",
   "metadata": {},
   "outputs": [
    {
     "name": "stdout",
     "output_type": "stream",
     "text": [
      "10\n",
      "9\n",
      "8\n",
      "7\n",
      "6\n",
      "5\n",
      "4\n",
      "3\n",
      "2\n",
      "1\n"
     ]
    }
   ],
   "source": [
    "for i in range(10,0,-1):\n",
    "    print(i)"
   ]
  },
  {
   "cell_type": "markdown",
   "id": "8521d796-5daa-4bef-8329-92d4bca6407f",
   "metadata": {},
   "source": [
    "## 8. Reverse a while loop to display numbers from 10 to 1 "
   ]
  },
  {
   "cell_type": "code",
   "execution_count": 25,
   "id": "12a3fc7d-993b-445e-a7ec-ebd1586365f6",
   "metadata": {},
   "outputs": [
    {
     "name": "stdout",
     "output_type": "stream",
     "text": [
      "10\n",
      "9\n",
      "8\n",
      "7\n",
      "6\n",
      "5\n",
      "4\n",
      "3\n",
      "2\n",
      "1\n"
     ]
    }
   ],
   "source": [
    "i = 10\n",
    "while i>=1:\n",
    "    print(i)\n",
    "    i=i-1"
   ]
  },
  {
   "cell_type": "code",
   "execution_count": null,
   "id": "fe06d1ae-ef8c-4e53-b045-739e549b14a3",
   "metadata": {},
   "outputs": [],
   "source": []
  }
 ],
 "metadata": {
  "kernelspec": {
   "display_name": "Python 3 (ipykernel)",
   "language": "python",
   "name": "python3"
  },
  "language_info": {
   "codemirror_mode": {
    "name": "ipython",
    "version": 3
   },
   "file_extension": ".py",
   "mimetype": "text/x-python",
   "name": "python",
   "nbconvert_exporter": "python",
   "pygments_lexer": "ipython3",
   "version": "3.10.8"
  }
 },
 "nbformat": 4,
 "nbformat_minor": 5
}
