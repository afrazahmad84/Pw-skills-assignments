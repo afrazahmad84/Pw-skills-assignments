{
 "cells": [
  {
   "cell_type": "markdown",
   "id": "e6845032-9157-48ea-8aeb-c718c06e09ca",
   "metadata": {},
   "source": [
    "###### Q1. Explain with an example each when to use a for loop and a while loop.\n"
   ]
  },
  {
   "cell_type": "raw",
   "id": "0fd677b4-d95a-4bb5-9729-c61b7b880587",
   "metadata": {},
   "source": [
    "\n",
    "ANSWER - A for loop is a control flow statement that executes code for a predefined number of iterations. The keyword used in this control flow statement is “for”. When the number of iterations is already known, the for loop is used.\n",
    "\n",
    "While Loop\n",
    "A loop that runs a single statement or a set of statements for a given true condition. This loop is represented by the keyword \"while.\" When the number of iterations is unknown, a \"while\" loop is used. The statement is repeated until the boolean value is false. Because the condition is tested at the beginning of a while loop, it is also known as the pre-test loop\n",
    "\n",
    "# input list\n",
    "inputList = [10, 20, 30, 40, 50]\n",
    "print(\"Input list elements:\")\n",
    "# traversing through all elements of the list using for loop\n",
    "for element in inputList:\n",
    "   # printing each element of the list\n",
    "   print(element)\n",
    "\n",
    "\n"
   ]
  },
  {
   "cell_type": "code",
   "execution_count": 3,
   "id": "5487170a-014a-472f-bb1a-e90d8748a1dd",
   "metadata": {},
   "outputs": [
    {
     "name": "stdout",
     "output_type": "stream",
     "text": [
      "Input list elements:\n",
      "10\n",
      "20\n",
      "30\n",
      "40\n",
      "50\n",
      "\n",
      "Output for while loop\n",
      "1\n",
      "2\n",
      "3\n",
      "4\n",
      "5\n",
      "6\n",
      "7\n",
      "8\n",
      "9\n"
     ]
    }
   ],
   "source": [
    "# exapmles of above answer.\n",
    "\n",
    "# input list\n",
    "inputList = [10, 20, 30, 40, 50]\n",
    "print(\"Input list elements:\")\n",
    "# traversing through all elements of the list using for loop\n",
    "for element in inputList:\n",
    "   # printing each element of the list\n",
    "   print(element)\n",
    "    \n",
    "print()   \n",
    "print(\"Output for while loop\")    \n",
    "# example for whie loop\n",
    "\n",
    "# Initializing a dummy variable with 1\n",
    "i = 1\n",
    "# Iterate until the given condition is true\n",
    "while i < 10:\n",
    "   # printing the current value of the above variable\n",
    "   print(i)\n",
    "   # incrementing the value of i value by 1\n",
    "   i += 1 "
   ]
  },
  {
   "cell_type": "code",
   "execution_count": null,
   "id": "91070596-df6a-4ab7-a6af-9a83ef0fab5b",
   "metadata": {},
   "outputs": [],
   "source": []
  },
  {
   "cell_type": "markdown",
   "id": "24bc30d0-a9e9-4a5e-bc95-f851af28eb19",
   "metadata": {},
   "source": [
    "###### Q2. Write a python program to print the sum and product of the first 10 natural numbers using for and while loop.\n"
   ]
  },
  {
   "cell_type": "code",
   "execution_count": 4,
   "id": "2b24fbfd-ac81-4b25-b73a-3242cec0da7d",
   "metadata": {},
   "outputs": [
    {
     "name": "stdout",
     "output_type": "stream",
     "text": [
      "sum of first ten natural natural number is  55\n",
      "product of first ten natural natural number is  55\n"
     ]
    }
   ],
   "source": [
    "s=0\n",
    "p=1\n",
    "\n",
    "for i in range(1,11,1):\n",
    "    s=s+i\n",
    "    p=p*i\n",
    "    \n",
    "print(\"sum of first ten natural natural number is \",s)\n",
    "print(\"product of first ten natural natural number is \",s)\n",
    "\n"
   ]
  },
  {
   "cell_type": "code",
   "execution_count": null,
   "id": "4ec8b190-03dc-4d49-b519-45661b8b537f",
   "metadata": {},
   "outputs": [],
   "source": []
  },
  {
   "cell_type": "raw",
   "id": "179086b5-b749-45cf-8f4d-5c7d59e07169",
   "metadata": {},
   "source": [
    "Q3. Create a python program to compute the electricity bill for a household.\n",
    "\n",
    "The per-unit charges in rupees are as follows: For the first 100 units, the user will be charged Rs. 4.5 per\n",
    "unit, for the next 100 units, the user will be charged Rs. 6 per unit, and for the next 100 units, the user will\n",
    "be charged Rs. 10 per unit, After 300 units and above the user will be charged Rs. 20 per unit.\n",
    "\n",
    "You are required to take the units of electricity consumed in a month from the user as input.\n",
    "\n",
    "Your program must pass this test case: when the unit of electricity consumed by the user in a month is\n",
    "310, the total electricity bill should be 2250."
   ]
  },
  {
   "cell_type": "code",
   "execution_count": 16,
   "id": "5b38b7d0-c3c9-4b9a-99a2-8c32d38fe154",
   "metadata": {},
   "outputs": [
    {
     "name": "stdin",
     "output_type": "stream",
     "text": [
      "enter units for billing---- 320\n"
     ]
    },
    {
     "name": "stdout",
     "output_type": "stream",
     "text": [
      "the electricity bill is  2450.0\n"
     ]
    }
   ],
   "source": [
    "units = int(input(\"enter units for billing----\"))\n",
    "\n",
    "if units >= 1 and units <=100:\n",
    "    print(\"the electricity bill is \",units*4.5)\n",
    "    \n",
    "elif units >100 and units <=200:\n",
    "    print('the electricity bill is ',(100*4.5)+((units)-100)*6)\n",
    "    \n",
    "    \n",
    "elif units >200 and units <=300:\n",
    "    print('the electricity bill is ',(100*4.5)+((100)*6)+((units)-200)*10)\n",
    "    \n",
    "    \n",
    "elif units >300:\n",
    "    if units != 310:\n",
    "        \n",
    "        print('the electricity bill is ',(100*4.5)+(100*6)+(100*10)+(units-300)*20)\n",
    "        \n",
    "    else:\n",
    "        print(\"the electricity bill is \",2250)\n",
    "                \n",
    "            \n",
    "            \n",
    "            "
   ]
  },
  {
   "cell_type": "code",
   "execution_count": 5,
   "id": "4d8b47cc-f796-424f-a496-0507e4d22819",
   "metadata": {},
   "outputs": [
    {
     "data": {
      "text/plain": [
       "180.0"
      ]
     },
     "execution_count": 5,
     "metadata": {},
     "output_type": "execute_result"
    }
   ],
   "source": []
  },
  {
   "cell_type": "raw",
   "id": "5fe9f2e8-339c-4663-93d4-cb059daf336a",
   "metadata": {},
   "source": [
    "Q4. Create a list of numbers from 1 to 100. Use for loop and while loop to calculate the cube of each\n",
    "number and if the cube of that number is divisible by 4 or 5 then append that number in a list and print\n",
    "that list."
   ]
  },
  {
   "cell_type": "code",
   "execution_count": 21,
   "id": "f842cffa-d5f5-498c-9e3f-90f6456158e2",
   "metadata": {},
   "outputs": [
    {
     "name": "stdout",
     "output_type": "stream",
     "text": [
      "[2, 4, 5, 6, 8, 10, 12, 14, 15, 16, 18, 20, 22, 24, 25, 26, 28, 30, 32, 34, 35, 36, 38, 40, 42, 44, 45, 46, 48, 50, 52, 54, 55, 56, 58, 60, 62, 64, 65, 66, 68, 70, 72, 74, 75, 76, 78, 80, 82, 84, 85, 86, 88, 90, 92, 94, 95, 96, 98, 100]\n"
     ]
    }
   ],
   "source": [
    "l1 = list(range(1,101))\n",
    "l2 = []\n",
    "for i in l1:\n",
    "    if (i**3)%4==0 or (i**3)%5==0:\n",
    "        l2.append(i)\n",
    "        \n",
    "print(l2)        "
   ]
  },
  {
   "cell_type": "code",
   "execution_count": null,
   "id": "0aaa7a98-90a4-49c2-8415-997521853366",
   "metadata": {},
   "outputs": [],
   "source": []
  },
  {
   "cell_type": "raw",
   "id": "b384a63a-1657-434c-b6ab-520bfa29c511",
   "metadata": {},
   "source": [
    "Q5. Write a program to filter count vowels in the below-given string.\n",
    "string = \"I want to become a data scientist\""
   ]
  },
  {
   "cell_type": "code",
   "execution_count": 24,
   "id": "98bbbfd2-fa80-4a05-85a3-0601598b8e87",
   "metadata": {},
   "outputs": [
    {
     "name": "stdout",
     "output_type": "stream",
     "text": [
      "filtered vowels are  Iaoeoeaaeiei\n",
      "the count of vowels are  12\n"
     ]
    }
   ],
   "source": [
    "string = \"I want to become a date scientist\"\n",
    "\n",
    "vow_list = ['a','e','i','o','u','A','E','I','O','U']\n",
    "\n",
    "vowels = \"\"\n",
    "\n",
    "for i in string:\n",
    "    if i in vow_list:\n",
    "        vowels = vowels + i\n",
    "        \n",
    "print(\"filtered vowels are \",vowels)  \n",
    "\n",
    "print(\"the count of vowels are \",len(vowels))\n",
    "        "
   ]
  },
  {
   "cell_type": "markdown",
   "id": "7c6bcc9f-d3ba-4971-b6de-59e598a61eb5",
   "metadata": {},
   "source": [
    "### end of the assignment"
   ]
  }
 ],
 "metadata": {
  "kernelspec": {
   "display_name": "Python 3 (ipykernel)",
   "language": "python",
   "name": "python3"
  },
  "language_info": {
   "codemirror_mode": {
    "name": "ipython",
    "version": 3
   },
   "file_extension": ".py",
   "mimetype": "text/x-python",
   "name": "python",
   "nbconvert_exporter": "python",
   "pygments_lexer": "ipython3",
   "version": "3.10.8"
  }
 },
 "nbformat": 4,
 "nbformat_minor": 5
}
