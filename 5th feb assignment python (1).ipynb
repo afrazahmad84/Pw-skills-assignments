{
 "cells": [
  {
   "cell_type": "markdown",
   "id": "cdf24217-9cc1-4a7e-bb86-72a10967af52",
   "metadata": {},
   "source": [
    "## Q1. Explain Class and Object with respect to Object-Oriented Programming. Give a suitable example."
   ]
  },
  {
   "cell_type": "markdown",
   "id": "6ca3cf9f-4aee-402a-83b2-170509040eab",
   "metadata": {},
   "source": [
    "Class is blueprint of any object. and object is an instance of any class."
   ]
  },
  {
   "cell_type": "markdown",
   "id": "8fcb1b8e-1111-4895-be9f-301251073322",
   "metadata": {},
   "source": [
    "## Q2. Name the four pillars of OOPs."
   ]
  },
  {
   "cell_type": "markdown",
   "id": "6f90395c-1532-4568-b7a6-b4a3adb3206d",
   "metadata": {},
   "source": [
    "There are four pillars of oops\n",
    "\n",
    "1.Encapsulation\n",
    "\n",
    "2.Abstraction\n",
    "\n",
    "3.Polymorphism\n",
    "\n",
    "4.Inheritence\n"
   ]
  },
  {
   "cell_type": "markdown",
   "id": "f347c7ac-1a53-4cb7-b635-a5c34c1f86b8",
   "metadata": {},
   "source": [
    "## Q3. Explain why the __init__() function is used. Give a suitable example."
   ]
  },
  {
   "cell_type": "markdown",
   "id": "c4df6e16-aabc-48ba-9cac-457aacbd8855",
   "metadata": {},
   "source": [
    "It is object constructer."
   ]
  },
  {
   "cell_type": "markdown",
   "id": "134fcb9c-828a-48e4-94f0-d0907ffb3762",
   "metadata": {},
   "source": [
    "## Q4. Why self is used in OOPs?"
   ]
  },
  {
   "cell_type": "markdown",
   "id": "b965e426-62d9-4ab6-9115-3b90ce5b0a7a",
   "metadata": {},
   "source": [
    "Self is used to bind the variables and functions in the class so that class can recognise its function and use it."
   ]
  },
  {
   "cell_type": "markdown",
   "id": "661bef09-c1e3-4811-9655-15819116f8e2",
   "metadata": {
    "tags": []
   },
   "source": [
    "## Q5. What is inheritance? Give an example for each type of inheritance."
   ]
  },
  {
   "cell_type": "raw",
   "id": "529f031b-4577-4c5e-ab61-f68b5dd91216",
   "metadata": {},
   "source": [
    "Inheritance is defined as the mechanism of inheriting the properties of the base class to the child class. \n",
    "1.Single inheritence\n",
    "2.Multiple inheritence\n",
    "3.Multilevel inheritence\n",
    "4.Hierarcial inheritence\n",
    "5.Hybrid inheritence"
   ]
  },
  {
   "cell_type": "code",
   "execution_count": null,
   "id": "65d7a539-ef53-47d1-b09e-2722a1e81b74",
   "metadata": {},
   "outputs": [],
   "source": []
  }
 ],
 "metadata": {
  "kernelspec": {
   "display_name": "Python 3 (ipykernel)",
   "language": "python",
   "name": "python3"
  },
  "language_info": {
   "codemirror_mode": {
    "name": "ipython",
    "version": 3
   },
   "file_extension": ".py",
   "mimetype": "text/x-python",
   "name": "python",
   "nbconvert_exporter": "python",
   "pygments_lexer": "ipython3",
   "version": "3.10.8"
  }
 },
 "nbformat": 4,
 "nbformat_minor": 5
}
