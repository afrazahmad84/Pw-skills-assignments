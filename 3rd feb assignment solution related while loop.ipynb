{
 "cells": [
  {
   "cell_type": "markdown",
   "id": "d3e11f18-8553-4cfc-a330-62e8622c2f9e",
   "metadata": {},
   "source": [
    "## Q1. Which keyword is used to create a function? Create a function to return a list of odd numbers in the1range of 1 to 25."
   ]
  },
  {
   "cell_type": "raw",
   "id": "4dda8294-837e-4619-a7f2-ce66ea91fb5c",
   "metadata": {},
   "source": [
    "ans - def keyword is used to create the function....."
   ]
  },
  {
   "cell_type": "code",
   "execution_count": 5,
   "id": "6d22e594-d5cd-42ad-8a15-1f1dce910557",
   "metadata": {},
   "outputs": [],
   "source": [
    "# function definition\n",
    "def odd_num(initial,stop_limit):\n",
    "    '''this function used for filtering the odd number whithin range'''\n",
    "    l=[]\n",
    "    for i in range(initial,stop_limit+1):\n",
    "        if i%2 != 0:\n",
    "            l.append(i)\n",
    "            \n",
    "    return l        "
   ]
  },
  {
   "cell_type": "code",
   "execution_count": 6,
   "id": "ce257ec2-2391-44d5-8ab9-45e51a3ab490",
   "metadata": {},
   "outputs": [
    {
     "data": {
      "text/plain": [
       "[1, 3, 5, 7, 9, 11, 13, 15, 17, 19, 21, 23, 25]"
      ]
     },
     "execution_count": 6,
     "metadata": {},
     "output_type": "execute_result"
    }
   ],
   "source": [
    "# function calling\n",
    "\n",
    "odd_num(1,25)"
   ]
  },
  {
   "cell_type": "markdown",
   "id": "6cd2236c-864c-4a75-859f-54bedfbbee32",
   "metadata": {},
   "source": [
    "## Q2. Why *args and **kwargs is used in some functions? Create a function each for *args and **kwargs to demonstrate their use."
   ]
  },
  {
   "cell_type": "raw",
   "id": "8d7122f3-dcff-45f4-a776-2ffb9a834aae",
   "metadata": {},
   "source": [
    "*args is used to more than 1 element it will take how much elements we provide in the parameter and **args it is used to return the result in the form of dictionary"
   ]
  },
  {
   "cell_type": "code",
   "execution_count": 9,
   "id": "db497f7b-5a4a-4eeb-886e-68ac321cc4ae",
   "metadata": {},
   "outputs": [],
   "source": [
    "def test1(*args):\n",
    "    return args"
   ]
  },
  {
   "cell_type": "code",
   "execution_count": 10,
   "id": "7e017cbe-16da-4c95-b5ee-b60652048f7e",
   "metadata": {},
   "outputs": [
    {
     "data": {
      "text/plain": [
       "([1, 2, 3, 4, 5],)"
      ]
     },
     "execution_count": 10,
     "metadata": {},
     "output_type": "execute_result"
    }
   ],
   "source": [
    "test1([1,2,3,4,5])"
   ]
  },
  {
   "cell_type": "code",
   "execution_count": 17,
   "id": "13e04f87-7572-427e-9942-a17e5cdb88bd",
   "metadata": {},
   "outputs": [],
   "source": [
    "def test2(**args):\n",
    "    return args"
   ]
  },
  {
   "cell_type": "code",
   "execution_count": 18,
   "id": "cb15e90f-c35a-4bb6-8edd-dc52db437d8f",
   "metadata": {},
   "outputs": [
    {
     "data": {
      "text/plain": [
       "{'key1': 1, 'key2': 2, 'key3': 3}"
      ]
     },
     "execution_count": 18,
     "metadata": {},
     "output_type": "execute_result"
    }
   ],
   "source": [
    "test2(key1=1,key2=2,key3=3)"
   ]
  },
  {
   "cell_type": "markdown",
   "id": "46aef6ed-a2da-4a50-b01c-dcaacee61fe7",
   "metadata": {},
   "source": [
    "## Q3. What is an iterator in python? Name the method used to initialise the iterator object and the method 1used for iteration. Use these methods to print the first five elements of the given list [2, 4, 6, 8, 10, 12, 14, 16, 18, 20]."
   ]
  },
  {
   "cell_type": "raw",
   "id": "1b655217-745f-48ea-b75a-eb33e4635c91",
   "metadata": {},
   "source": [
    "iterator function is used to itrate the object iter keyword is used to make itrable any object"
   ]
  },
  {
   "cell_type": "code",
   "execution_count": 13,
   "id": "ac68787e-b294-4961-922d-f34e90f27c2d",
   "metadata": {},
   "outputs": [],
   "source": [
    "l = [2,4,6,8,10,12,14,16,18,20]"
   ]
  },
  {
   "cell_type": "code",
   "execution_count": 15,
   "id": "e6898984-5df8-41c9-8483-4849abcfd57f",
   "metadata": {},
   "outputs": [
    {
     "name": "stdout",
     "output_type": "stream",
     "text": [
      "2\n",
      "4\n",
      "6\n",
      "8\n",
      "10\n"
     ]
    }
   ],
   "source": [
    "l = iter(l)\n",
    "\n",
    "for i in range(5):\n",
    "    print(next(l))"
   ]
  },
  {
   "cell_type": "markdown",
   "id": "4f45c566-a9f0-4fe7-b318-b7948ed1757f",
   "metadata": {},
   "source": [
    "## Q4. What is a generator function in python? Why yield keyword is used? Give an example of a generator function."
   ]
  },
  {
   "cell_type": "raw",
   "id": "6f64d640-6fdc-452c-87af-8fb8fa1c920a",
   "metadata": {},
   "source": [
    "Generator function is used to generate the date. if is used for memory utilization. Yield keyword helps to generate the data."
   ]
  },
  {
   "cell_type": "code",
   "execution_count": 1,
   "id": "16b7dd9d-1334-4a31-a3ff-195a297800f3",
   "metadata": {},
   "outputs": [],
   "source": [
    "def test1(n):\n",
    "    for i in range(n):\n",
    "        yield i"
   ]
  },
  {
   "cell_type": "code",
   "execution_count": 3,
   "id": "77ac6a60-4b00-4d3f-8514-395970477e56",
   "metadata": {},
   "outputs": [
    {
     "name": "stdout",
     "output_type": "stream",
     "text": [
      "0\n",
      "1\n",
      "2\n",
      "3\n",
      "4\n",
      "5\n",
      "6\n",
      "7\n",
      "8\n",
      "9\n"
     ]
    }
   ],
   "source": [
    "for i in test1(10):\n",
    "    print(i)"
   ]
  },
  {
   "cell_type": "markdown",
   "id": "952e005c-f26d-4d43-8dd2-58a5e61d3bd5",
   "metadata": {},
   "source": [
    "## Q5. Create a generator function for prime numbers less than 1000. Use the next() method to print the first 20 prime numbers."
   ]
  },
  {
   "cell_type": "code",
   "execution_count": 6,
   "id": "321ac016-52bf-4d9d-adbb-71c9b93168f6",
   "metadata": {},
   "outputs": [],
   "source": [
    "def prime_test():\n",
    "    \n",
    "    for i in range(1,1000):\n",
    "        count=0\n",
    "        for j in range(1,i+1):\n",
    "            if i%j==0:\n",
    "                count=count+1\n",
    "                \n",
    "        if count==2:\n",
    "            yield i\n",
    "        "
   ]
  },
  {
   "cell_type": "code",
   "execution_count": 8,
   "id": "2349f843-1e28-4def-8635-039b9f3d8b59",
   "metadata": {},
   "outputs": [],
   "source": [
    "prime_no = prime_test()"
   ]
  },
  {
   "cell_type": "code",
   "execution_count": 11,
   "id": "89415f4d-0039-480b-bacd-aa31cf82aa58",
   "metadata": {},
   "outputs": [
    {
     "name": "stdout",
     "output_type": "stream",
     "text": [
      "73\n",
      "79\n",
      "83\n",
      "89\n",
      "97\n",
      "101\n",
      "103\n",
      "107\n",
      "109\n",
      "113\n",
      "127\n",
      "131\n",
      "137\n",
      "139\n",
      "149\n",
      "151\n",
      "157\n",
      "163\n",
      "167\n",
      "173\n"
     ]
    }
   ],
   "source": [
    "for i in range(20):\n",
    "    print(next(prime_no))"
   ]
  },
  {
   "cell_type": "markdown",
   "id": "798699fa-1cb6-4143-87c0-5d8c781f3cb0",
   "metadata": {},
   "source": [
    "## Q6. Write a python program to print the first 10 Fibonacci numbers using a while loop."
   ]
  },
  {
   "cell_type": "code",
   "execution_count": 19,
   "id": "00c8b6c5-c116-4428-babe-ed44cf22ef7a",
   "metadata": {},
   "outputs": [
    {
     "name": "stdout",
     "output_type": "stream",
     "text": [
      "0\n",
      "1\n",
      "1\n",
      "2\n",
      "3\n",
      "5\n",
      "8\n",
      "13\n",
      "21\n",
      "34\n"
     ]
    }
   ],
   "source": [
    "n = 10\n",
    "a,b = 0,1\n",
    "c=a+b\n",
    "\n",
    "counter = 1\n",
    "\n",
    "while counter <=10:\n",
    "    print(a)\n",
    "    a=b\n",
    "    b=c\n",
    "    c=a+b\n",
    "    counter = counter + 1"
   ]
  },
  {
   "cell_type": "markdown",
   "id": "29ae1c42-ba9f-4d65-9f97-dac47d2ea48c",
   "metadata": {},
   "source": [
    "## Q7. Write a List Comprehension to iterate through the given string: ‘pwskills’. Expected output: ['p', 'w', 's', 'k', 'i', 'l', 'l', 's']"
   ]
  },
  {
   "cell_type": "code",
   "execution_count": 20,
   "id": "64062815-86ea-458c-96a6-51e2f44f640c",
   "metadata": {},
   "outputs": [
    {
     "data": {
      "text/plain": [
       "['p', 'w', 's', 'k', 'i', 'l', 'l', 's']"
      ]
     },
     "execution_count": 20,
     "metadata": {},
     "output_type": "execute_result"
    }
   ],
   "source": [
    "[i for i in 'pwskills']"
   ]
  },
  {
   "cell_type": "markdown",
   "id": "110d659b-9da7-423a-802b-0481f798c3ac",
   "metadata": {},
   "source": [
    "## Q8. Write a python program to check whether a given number is Palindrome or not using a while loop."
   ]
  },
  {
   "cell_type": "code",
   "execution_count": 48,
   "id": "748d1c16-edaf-4f1c-97f1-a073c924b36a",
   "metadata": {},
   "outputs": [
    {
     "name": "stdin",
     "output_type": "stream",
     "text": [
      "enter the number to check whether it is palindrom or not -------  343\n"
     ]
    },
    {
     "name": "stdout",
     "output_type": "stream",
     "text": [
      "it is palindrom\n"
     ]
    }
   ],
   "source": [
    "n = int(input(\"enter the number to check whether it is palindrom or not ------- \"))\n",
    "pal = 0\n",
    "num = n        \n",
    "while num > 0:    \n",
    "        rem = num%10\n",
    "        pal = pal*10 + rem\n",
    "        num = num//10\n",
    "        \n",
    "if n == pal:\n",
    "    print(\"it is palindrom\")\n",
    "else:\n",
    "    print(\"it is not palindrom\")\n",
    "        \n",
    "        \n",
    "        "
   ]
  },
  {
   "cell_type": "markdown",
   "id": "fa0c6d0d-fcf3-43f1-84d7-8bd12a945571",
   "metadata": {},
   "source": [
    "## Q9. Write a code to print odd numbers from 1 to 100 using list comprehension."
   ]
  },
  {
   "cell_type": "code",
   "execution_count": 50,
   "id": "a999d6bc-91c1-4923-aa04-07f9f3c0eb94",
   "metadata": {},
   "outputs": [
    {
     "name": "stdout",
     "output_type": "stream",
     "text": [
      "[1, 3, 5, 7, 9, 11, 13, 15, 17, 19, 21, 23, 25, 27, 29, 31, 33, 35, 37, 39, 41, 43, 45, 47, 49, 51, 53, 55, 57, 59, 61, 63, 65, 67, 69, 71, 73, 75, 77, 79, 81, 83, 85, 87, 89, 91, 93, 95, 97, 99]\n"
     ]
    }
   ],
   "source": [
    "print([i for i in range(1,100) if i%2 != 0])"
   ]
  },
  {
   "cell_type": "code",
   "execution_count": null,
   "id": "a76b7535-6bcb-410f-ac44-0aa3bc0524cb",
   "metadata": {},
   "outputs": [],
   "source": []
  }
 ],
 "metadata": {
  "kernelspec": {
   "display_name": "Python 3 (ipykernel)",
   "language": "python",
   "name": "python3"
  },
  "language_info": {
   "codemirror_mode": {
    "name": "ipython",
    "version": 3
   },
   "file_extension": ".py",
   "mimetype": "text/x-python",
   "name": "python",
   "nbconvert_exporter": "python",
   "pygments_lexer": "ipython3",
   "version": "3.10.8"
  }
 },
 "nbformat": 4,
 "nbformat_minor": 5
}
