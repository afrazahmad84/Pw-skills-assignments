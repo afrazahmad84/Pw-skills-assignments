{
 "cells": [
  {
   "cell_type": "markdown",
   "id": "ee5cef5f-df1c-44df-9af8-6f7d51c5158e",
   "metadata": {},
   "source": [
    "### Q1. Create a function which will take a list as an argument and return the product of all the numbers after creating a flat list. \n",
    "\n"
   ]
  },
  {
   "cell_type": "markdown",
   "id": "46d8322a-a9ef-4262-94e6-d1c5f7c4aa9d",
   "metadata": {},
   "source": [
    "Use the below-given list as an argument for your function.\n",
    "\n",
    "list1 = [1,2,3,4, [44,55,66, True], False, (34,56,78,89,34), {1,2,3,3,2,1}, {1:34, \"key2\": [55, 67, 78, 89], 4: (45,22, 61, 34)}, [56, 'data science'], 'Machine Learning']\n",
    "\n",
    "Note: you must extract numeric keys and values of the dictionary also."
   ]
  },
  {
   "cell_type": "code",
   "execution_count": 66,
   "id": "384282dc-a511-4569-aac5-35f0ae7589f0",
   "metadata": {},
   "outputs": [],
   "source": [
    "\n",
    "\n",
    "l1=[]\n",
    "\n",
    "def flat_list(l):\n",
    "            \n",
    "    \n",
    "    for i in l:\n",
    "        if type(i) == list or type(i)==tuple or type(i)==set:\n",
    "            flat_list(i)\n",
    "            \n",
    "        elif type(i)==dict:\n",
    "            flat_list(i.keys())\n",
    "            flat_list(i.values())  \n",
    "                \n",
    "                \n",
    "        else:\n",
    "            l1.append(i)\n",
    "            \n",
    "            \n",
    "                \n",
    "    print(l1)\n",
    "        \n",
    "    \n",
    "    \n",
    "    \n",
    "            \n",
    "            \n",
    "           \n",
    "            \n",
    "           \n",
    "\n",
    "        \n",
    "            \n",
    "            \n",
    "            \n",
    "          \n",
    "     \n",
    "    \n",
    "       \n",
    "    \n",
    "    "
   ]
  },
  {
   "cell_type": "code",
   "execution_count": 75,
   "id": "541b0479-3ead-4213-be39-dca6ff318317",
   "metadata": {},
   "outputs": [],
   "source": [
    "\n",
    "\n",
    "\n",
    "\n",
    "def flat_list1(l):\n",
    "            \n",
    "    p=1\n",
    "    for i in l:\n",
    "        if type(i) == int:\n",
    "            p=p*i\n",
    "            \n",
    "            \n",
    "    return p       \n",
    "        \n",
    "    \n",
    "    \n",
    "    \n",
    "            \n",
    "            \n",
    "           \n",
    "            \n",
    "           \n",
    "\n",
    "        \n",
    "            \n",
    "            \n",
    "            \n",
    "          \n",
    "     \n",
    "    \n",
    "       \n",
    "    \n",
    "    "
   ]
  },
  {
   "cell_type": "code",
   "execution_count": null,
   "id": "e4baf827-41c7-4647-9e41-e81cb61d2f86",
   "metadata": {},
   "outputs": [],
   "source": []
  },
  {
   "cell_type": "code",
   "execution_count": 76,
   "id": "cc3747d7-b7a8-4c40-99d1-0f5581f26c8c",
   "metadata": {},
   "outputs": [],
   "source": [
    "list1 = [1,2,3,4, [44,55,66, True], False, (34,56,78,89,34), {1,2,3,3,2,1}, {1:34, \"key2\": [55, 67, 78, 89], 4: (45,22, 61, 34)}, [56, 'data science'], 'Machine Learning']"
   ]
  },
  {
   "cell_type": "code",
   "execution_count": 77,
   "id": "e5dc4376-b3e1-4d2e-b224-fc8e209ca8bc",
   "metadata": {},
   "outputs": [],
   "source": [
    "f_list = [1, 2, 3, 4, 44, 55, 66, True, False, 34, 56, 78, 89, 34, 1, 2, 3, 1, 'key2', 4, 34, 55, 67, 78, 89, 45, 22, 61, 34, 56, 'data science', 'Machine Learning']"
   ]
  },
  {
   "cell_type": "code",
   "execution_count": 81,
   "id": "9982f9b5-75b9-4dc2-99f4-fd1acf6aa2d8",
   "metadata": {},
   "outputs": [
    {
     "name": "stdout",
     "output_type": "stream",
     "text": [
      "product of all the numberis ---  4134711838987085478833841242112000\n"
     ]
    }
   ],
   "source": [
    "print(\"product of all the numberis --- \",flat_list1(f_list))\n"
   ]
  },
  {
   "cell_type": "markdown",
   "id": "d7230457-701b-42e9-885e-90cc7a10cce1",
   "metadata": {},
   "source": [
    "### Q2. Write a python program for encrypting a message sent to you by your friend. The logic of encryption should be such that, for a the output should be z. For b, the output should be y. For c, the output shouldbe x respectively. Also, the whitespace should be replaced with a dollar sign. Keep the punctuationmarks unchanged.\n"
   ]
  },
  {
   "cell_type": "markdown",
   "id": "f7a761ae-1256-4955-ad15-125882333860",
   "metadata": {},
   "source": [
    "Input Sentence: I want to become a Data Scientist.\n",
    "\n",
    "Encrypt the above input sentence using the program you just created.\n",
    "\n",
    "Note: Convert the given input sentence into lowercase before encrypting. The final output should be lowercase."
   ]
  },
  {
   "cell_type": "code",
   "execution_count": 1,
   "id": "7e8719f9-2b85-4388-a563-a08eb2edd69a",
   "metadata": {},
   "outputs": [
    {
     "name": "stdin",
     "output_type": "stream",
     "text": [
      "enter message--- I want to become a Data Scientist.\n"
     ]
    },
    {
     "name": "stdout",
     "output_type": "stream",
     "text": [
      "The encrypted message is  r$dzmg$gl$yvxlnv$z$wzgz$hxrvmgrhg.\n"
     ]
    }
   ],
   "source": [
    "message = input(\"enter message---\")\n",
    "l1 = ['a','b','c','d','e','f','g','h','i','j','k','l','m','n','o','p','q','r','s','t','u','v','w','x','y','z']\n",
    "l2 = l1[len(l1)-1::-1]  # to reverse the function\n",
    "\n",
    "\n",
    "d = {l2[i]:l1[i] for i in range(len(l1)-1,-1,-1)}   #creating a dictionary with dictionary comprehension\n",
    "\n",
    "d[\" \"]=\"$\"   # adding a item into the dictionary\n",
    "\n",
    "l3 = [i.upper() for i in l1] + l1\n",
    "\n",
    "enc = \"\"\n",
    "\n",
    "for i in message:\n",
    "    if i in l3:\n",
    "        enc = enc + d[i.lower()]\n",
    "        \n",
    "    elif i == \" \":\n",
    "        enc = enc +d[i]\n",
    "    \n",
    "    else:\n",
    "        enc = enc + str(i)\n",
    "        \n",
    "        \n",
    "print(\"The encrypted message is \" ,enc)        \n",
    "\n"
   ]
  },
  {
   "cell_type": "code",
   "execution_count": null,
   "id": "f4b057b7-5847-44fd-b3bb-146afb33a6c3",
   "metadata": {},
   "outputs": [],
   "source": []
  },
  {
   "cell_type": "code",
   "execution_count": null,
   "id": "5143884c-bb52-47c6-a3b3-3c0df02cc9dc",
   "metadata": {},
   "outputs": [],
   "source": []
  }
 ],
 "metadata": {
  "kernelspec": {
   "display_name": "Python 3 (ipykernel)",
   "language": "python",
   "name": "python3"
  },
  "language_info": {
   "codemirror_mode": {
    "name": "ipython",
    "version": 3
   },
   "file_extension": ".py",
   "mimetype": "text/x-python",
   "name": "python",
   "nbconvert_exporter": "python",
   "pygments_lexer": "ipython3",
   "version": "3.10.8"
  }
 },
 "nbformat": 4,
 "nbformat_minor": 5
}
