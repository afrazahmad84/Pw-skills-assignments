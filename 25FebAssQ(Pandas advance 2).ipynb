{
 "cells": [
  {
   "cell_type": "markdown",
   "id": "bb81ec2d-6634-4496-8839-f7ba02886653",
   "metadata": {},
   "source": [
    "# PANDAS ADVANCE PART 2 ASSIGNMENT"
   ]
  },
  {
   "cell_type": "code",
   "execution_count": 3,
   "id": "ed7e5ba1-79c8-421d-bab3-846f16833874",
   "metadata": {},
   "outputs": [],
   "source": [
    "import pandas as pd\n",
    "\n",
    "course_name = ['Data Science', 'Machine Learning', 'Big Data', 'Data Engineer']\n",
    "\n",
    "duration =  [2,3,6,4]\n",
    "\n",
    "df = pd.DataFrame(data = {'course_name' : course_name, 'duration' : duration})"
   ]
  },
  {
   "cell_type": "code",
   "execution_count": 4,
   "id": "9b60433c-e04b-4be1-91a6-004e94e832ea",
   "metadata": {},
   "outputs": [
    {
     "data": {
      "text/html": [
       "<div>\n",
       "<style scoped>\n",
       "    .dataframe tbody tr th:only-of-type {\n",
       "        vertical-align: middle;\n",
       "    }\n",
       "\n",
       "    .dataframe tbody tr th {\n",
       "        vertical-align: top;\n",
       "    }\n",
       "\n",
       "    .dataframe thead th {\n",
       "        text-align: right;\n",
       "    }\n",
       "</style>\n",
       "<table border=\"1\" class=\"dataframe\">\n",
       "  <thead>\n",
       "    <tr style=\"text-align: right;\">\n",
       "      <th></th>\n",
       "      <th>course_name</th>\n",
       "      <th>duration</th>\n",
       "    </tr>\n",
       "  </thead>\n",
       "  <tbody>\n",
       "    <tr>\n",
       "      <th>0</th>\n",
       "      <td>Data Science</td>\n",
       "      <td>2</td>\n",
       "    </tr>\n",
       "    <tr>\n",
       "      <th>1</th>\n",
       "      <td>Machine Learning</td>\n",
       "      <td>3</td>\n",
       "    </tr>\n",
       "    <tr>\n",
       "      <th>2</th>\n",
       "      <td>Big Data</td>\n",
       "      <td>6</td>\n",
       "    </tr>\n",
       "    <tr>\n",
       "      <th>3</th>\n",
       "      <td>Data Engineer</td>\n",
       "      <td>4</td>\n",
       "    </tr>\n",
       "  </tbody>\n",
       "</table>\n",
       "</div>"
      ],
      "text/plain": [
       "        course_name  duration\n",
       "0      Data Science         2\n",
       "1  Machine Learning         3\n",
       "2          Big Data         6\n",
       "3     Data Engineer         4"
      ]
     },
     "execution_count": 4,
     "metadata": {},
     "output_type": "execute_result"
    }
   ],
   "source": [
    "df"
   ]
  },
  {
   "cell_type": "markdown",
   "id": "fb209a3a-33a7-44a1-9201-c920cbcf01e6",
   "metadata": {},
   "source": [
    "### Q1. Write a code to print the data present in the second row of the dataframe, df.\n"
   ]
  },
  {
   "cell_type": "code",
   "execution_count": 11,
   "id": "6f20c5f1-4d8e-474c-bf3b-ef14e6649481",
   "metadata": {},
   "outputs": [
    {
     "data": {
      "text/plain": [
       "course_name    Machine Learning\n",
       "duration                      3\n",
       "Name: 1, dtype: object"
      ]
     },
     "execution_count": 11,
     "metadata": {},
     "output_type": "execute_result"
    }
   ],
   "source": [
    "df.iloc[1]"
   ]
  },
  {
   "cell_type": "markdown",
   "id": "ebe19fb2-cbd6-4319-9632-6762ab9f0243",
   "metadata": {},
   "source": [
    "### Q2. What is the difference between the functions loc and iloc in pandas.DataFrame?\n"
   ]
  },
  {
   "cell_type": "markdown",
   "id": "c2a41544-e0d5-4702-858f-b024b7fbcf86",
   "metadata": {},
   "source": [
    "pandas iloc takes integer location and  in loc we can provide the name as well."
   ]
  },
  {
   "cell_type": "code",
   "execution_count": 12,
   "id": "bf19daad-b85a-4788-a650-463340da2e6f",
   "metadata": {},
   "outputs": [
    {
     "data": {
      "text/html": [
       "<div>\n",
       "<style scoped>\n",
       "    .dataframe tbody tr th:only-of-type {\n",
       "        vertical-align: middle;\n",
       "    }\n",
       "\n",
       "    .dataframe tbody tr th {\n",
       "        vertical-align: top;\n",
       "    }\n",
       "\n",
       "    .dataframe thead th {\n",
       "        text-align: right;\n",
       "    }\n",
       "</style>\n",
       "<table border=\"1\" class=\"dataframe\">\n",
       "  <thead>\n",
       "    <tr style=\"text-align: right;\">\n",
       "      <th></th>\n",
       "      <th>course_name</th>\n",
       "    </tr>\n",
       "  </thead>\n",
       "  <tbody>\n",
       "    <tr>\n",
       "      <th>0</th>\n",
       "      <td>Data Science</td>\n",
       "    </tr>\n",
       "    <tr>\n",
       "      <th>1</th>\n",
       "      <td>Machine Learning</td>\n",
       "    </tr>\n",
       "  </tbody>\n",
       "</table>\n",
       "</div>"
      ],
      "text/plain": [
       "        course_name\n",
       "0      Data Science\n",
       "1  Machine Learning"
      ]
     },
     "execution_count": 12,
     "metadata": {},
     "output_type": "execute_result"
    }
   ],
   "source": [
    "df.iloc[0:2,0:1]"
   ]
  },
  {
   "cell_type": "code",
   "execution_count": 14,
   "id": "aeb253f1-1db5-4c60-b149-f9501eb53845",
   "metadata": {},
   "outputs": [
    {
     "data": {
      "text/html": [
       "<div>\n",
       "<style scoped>\n",
       "    .dataframe tbody tr th:only-of-type {\n",
       "        vertical-align: middle;\n",
       "    }\n",
       "\n",
       "    .dataframe tbody tr th {\n",
       "        vertical-align: top;\n",
       "    }\n",
       "\n",
       "    .dataframe thead th {\n",
       "        text-align: right;\n",
       "    }\n",
       "</style>\n",
       "<table border=\"1\" class=\"dataframe\">\n",
       "  <thead>\n",
       "    <tr style=\"text-align: right;\">\n",
       "      <th></th>\n",
       "      <th>course_name</th>\n",
       "    </tr>\n",
       "  </thead>\n",
       "  <tbody>\n",
       "    <tr>\n",
       "      <th>0</th>\n",
       "      <td>Data Science</td>\n",
       "    </tr>\n",
       "    <tr>\n",
       "      <th>1</th>\n",
       "      <td>Machine Learning</td>\n",
       "    </tr>\n",
       "    <tr>\n",
       "      <th>2</th>\n",
       "      <td>Big Data</td>\n",
       "    </tr>\n",
       "  </tbody>\n",
       "</table>\n",
       "</div>"
      ],
      "text/plain": [
       "        course_name\n",
       "0      Data Science\n",
       "1  Machine Learning\n",
       "2          Big Data"
      ]
     },
     "execution_count": 14,
     "metadata": {},
     "output_type": "execute_result"
    }
   ],
   "source": [
    "df.loc[0:2,['course_name']]"
   ]
  },
  {
   "cell_type": "markdown",
   "id": "e582557f-bad5-4c68-8362-688c3a5586fc",
   "metadata": {},
   "source": [
    "### Q3. Reindex the given dataframe using a variable, reindex = [3,0,1,2] and store it in the variable, new_df then find the output for both new_df.loc[2] and new_df.iloc[2]."
   ]
  },
  {
   "cell_type": "markdown",
   "id": "278b1163-be72-469d-aff5-175796b8365c",
   "metadata": {},
   "source": [
    "###### Did you observe any difference in both the outputs? If so then explain it.\n"
   ]
  },
  {
   "cell_type": "code",
   "execution_count": 15,
   "id": "e7b4c838-b7e3-4403-aad0-9e03962ad666",
   "metadata": {},
   "outputs": [
    {
     "data": {
      "text/html": [
       "<div>\n",
       "<style scoped>\n",
       "    .dataframe tbody tr th:only-of-type {\n",
       "        vertical-align: middle;\n",
       "    }\n",
       "\n",
       "    .dataframe tbody tr th {\n",
       "        vertical-align: top;\n",
       "    }\n",
       "\n",
       "    .dataframe thead th {\n",
       "        text-align: right;\n",
       "    }\n",
       "</style>\n",
       "<table border=\"1\" class=\"dataframe\">\n",
       "  <thead>\n",
       "    <tr style=\"text-align: right;\">\n",
       "      <th></th>\n",
       "      <th>course_name</th>\n",
       "      <th>duration</th>\n",
       "    </tr>\n",
       "  </thead>\n",
       "  <tbody>\n",
       "    <tr>\n",
       "      <th>0</th>\n",
       "      <td>Data Science</td>\n",
       "      <td>2</td>\n",
       "    </tr>\n",
       "    <tr>\n",
       "      <th>1</th>\n",
       "      <td>Machine Learning</td>\n",
       "      <td>3</td>\n",
       "    </tr>\n",
       "    <tr>\n",
       "      <th>2</th>\n",
       "      <td>Big Data</td>\n",
       "      <td>6</td>\n",
       "    </tr>\n",
       "    <tr>\n",
       "      <th>3</th>\n",
       "      <td>Data Engineer</td>\n",
       "      <td>4</td>\n",
       "    </tr>\n",
       "  </tbody>\n",
       "</table>\n",
       "</div>"
      ],
      "text/plain": [
       "        course_name  duration\n",
       "0      Data Science         2\n",
       "1  Machine Learning         3\n",
       "2          Big Data         6\n",
       "3     Data Engineer         4"
      ]
     },
     "execution_count": 15,
     "metadata": {},
     "output_type": "execute_result"
    }
   ],
   "source": [
    "df"
   ]
  },
  {
   "cell_type": "code",
   "execution_count": 17,
   "id": "64592069-d593-4147-8448-0c963d2f7793",
   "metadata": {},
   "outputs": [],
   "source": [
    "new_df = df.reindex([3,0,1,2])"
   ]
  },
  {
   "cell_type": "code",
   "execution_count": 18,
   "id": "2abdddea-fa5d-4b1a-af40-bf7d7ced5b62",
   "metadata": {},
   "outputs": [
    {
     "data": {
      "text/html": [
       "<div>\n",
       "<style scoped>\n",
       "    .dataframe tbody tr th:only-of-type {\n",
       "        vertical-align: middle;\n",
       "    }\n",
       "\n",
       "    .dataframe tbody tr th {\n",
       "        vertical-align: top;\n",
       "    }\n",
       "\n",
       "    .dataframe thead th {\n",
       "        text-align: right;\n",
       "    }\n",
       "</style>\n",
       "<table border=\"1\" class=\"dataframe\">\n",
       "  <thead>\n",
       "    <tr style=\"text-align: right;\">\n",
       "      <th></th>\n",
       "      <th>course_name</th>\n",
       "      <th>duration</th>\n",
       "    </tr>\n",
       "  </thead>\n",
       "  <tbody>\n",
       "    <tr>\n",
       "      <th>3</th>\n",
       "      <td>Data Engineer</td>\n",
       "      <td>4</td>\n",
       "    </tr>\n",
       "    <tr>\n",
       "      <th>0</th>\n",
       "      <td>Data Science</td>\n",
       "      <td>2</td>\n",
       "    </tr>\n",
       "    <tr>\n",
       "      <th>1</th>\n",
       "      <td>Machine Learning</td>\n",
       "      <td>3</td>\n",
       "    </tr>\n",
       "    <tr>\n",
       "      <th>2</th>\n",
       "      <td>Big Data</td>\n",
       "      <td>6</td>\n",
       "    </tr>\n",
       "  </tbody>\n",
       "</table>\n",
       "</div>"
      ],
      "text/plain": [
       "        course_name  duration\n",
       "3     Data Engineer         4\n",
       "0      Data Science         2\n",
       "1  Machine Learning         3\n",
       "2          Big Data         6"
      ]
     },
     "execution_count": 18,
     "metadata": {},
     "output_type": "execute_result"
    }
   ],
   "source": [
    "new_df"
   ]
  },
  {
   "cell_type": "code",
   "execution_count": 19,
   "id": "12628e81-086a-4f90-8d3c-28b8f47da8e8",
   "metadata": {},
   "outputs": [
    {
     "data": {
      "text/plain": [
       "course_name    Big Data\n",
       "duration              6\n",
       "Name: 2, dtype: object"
      ]
     },
     "execution_count": 19,
     "metadata": {},
     "output_type": "execute_result"
    }
   ],
   "source": [
    "df.loc[2]"
   ]
  },
  {
   "cell_type": "code",
   "execution_count": 20,
   "id": "f677e584-3c6e-49b6-9960-7ee85e4d39d5",
   "metadata": {},
   "outputs": [
    {
     "data": {
      "text/plain": [
       "course_name    Machine Learning\n",
       "duration                      3\n",
       "Name: 1, dtype: object"
      ]
     },
     "execution_count": 20,
     "metadata": {},
     "output_type": "execute_result"
    }
   ],
   "source": [
    "new_df.iloc[2]"
   ]
  },
  {
   "cell_type": "markdown",
   "id": "0ee1f344-0253-426b-94d4-0da06708fc77",
   "metadata": {},
   "source": [
    "in new_df it is taking by default indexing not reset index"
   ]
  },
  {
   "cell_type": "markdown",
   "id": "a74af55f-b256-48ac-8628-9e101266522c",
   "metadata": {},
   "source": [
    "#### Available dataset"
   ]
  },
  {
   "cell_type": "code",
   "execution_count": 21,
   "id": "29832611-ec6b-4343-82f2-eb625a5ea0cb",
   "metadata": {},
   "outputs": [],
   "source": [
    "import pandas as pd\n",
    "\n",
    "import numpy as np\n",
    "\n",
    "columns = ['column_1', 'column_2', 'column_3', 'column_4', 'column_5', 'column_6']\n",
    "\n",
    "indices = [1,2,3,4,5,6]\n",
    "\n",
    "#Creating a dataframe:\n",
    "df1 = pd.DataFrame(np.random.rand(6,6), columns = columns, index = indices)"
   ]
  },
  {
   "cell_type": "code",
   "execution_count": 22,
   "id": "0711a216-b1aa-42fc-ace8-d7fc29161931",
   "metadata": {},
   "outputs": [
    {
     "data": {
      "text/html": [
       "<div>\n",
       "<style scoped>\n",
       "    .dataframe tbody tr th:only-of-type {\n",
       "        vertical-align: middle;\n",
       "    }\n",
       "\n",
       "    .dataframe tbody tr th {\n",
       "        vertical-align: top;\n",
       "    }\n",
       "\n",
       "    .dataframe thead th {\n",
       "        text-align: right;\n",
       "    }\n",
       "</style>\n",
       "<table border=\"1\" class=\"dataframe\">\n",
       "  <thead>\n",
       "    <tr style=\"text-align: right;\">\n",
       "      <th></th>\n",
       "      <th>column_1</th>\n",
       "      <th>column_2</th>\n",
       "      <th>column_3</th>\n",
       "      <th>column_4</th>\n",
       "      <th>column_5</th>\n",
       "      <th>column_6</th>\n",
       "    </tr>\n",
       "  </thead>\n",
       "  <tbody>\n",
       "    <tr>\n",
       "      <th>1</th>\n",
       "      <td>0.008987</td>\n",
       "      <td>0.324864</td>\n",
       "      <td>0.105220</td>\n",
       "      <td>0.215929</td>\n",
       "      <td>0.043844</td>\n",
       "      <td>0.205544</td>\n",
       "    </tr>\n",
       "    <tr>\n",
       "      <th>2</th>\n",
       "      <td>0.525643</td>\n",
       "      <td>0.939439</td>\n",
       "      <td>0.828907</td>\n",
       "      <td>0.933123</td>\n",
       "      <td>0.643853</td>\n",
       "      <td>0.008976</td>\n",
       "    </tr>\n",
       "    <tr>\n",
       "      <th>3</th>\n",
       "      <td>0.234392</td>\n",
       "      <td>0.469187</td>\n",
       "      <td>0.517200</td>\n",
       "      <td>0.943219</td>\n",
       "      <td>0.472862</td>\n",
       "      <td>0.469984</td>\n",
       "    </tr>\n",
       "    <tr>\n",
       "      <th>4</th>\n",
       "      <td>0.933037</td>\n",
       "      <td>0.324094</td>\n",
       "      <td>0.761387</td>\n",
       "      <td>0.166642</td>\n",
       "      <td>0.021803</td>\n",
       "      <td>0.576131</td>\n",
       "    </tr>\n",
       "    <tr>\n",
       "      <th>5</th>\n",
       "      <td>0.791503</td>\n",
       "      <td>0.540213</td>\n",
       "      <td>0.950585</td>\n",
       "      <td>0.379006</td>\n",
       "      <td>0.732422</td>\n",
       "      <td>0.484946</td>\n",
       "    </tr>\n",
       "    <tr>\n",
       "      <th>6</th>\n",
       "      <td>0.835030</td>\n",
       "      <td>0.494368</td>\n",
       "      <td>0.928875</td>\n",
       "      <td>0.681063</td>\n",
       "      <td>0.170177</td>\n",
       "      <td>0.596936</td>\n",
       "    </tr>\n",
       "  </tbody>\n",
       "</table>\n",
       "</div>"
      ],
      "text/plain": [
       "   column_1  column_2  column_3  column_4  column_5  column_6\n",
       "1  0.008987  0.324864  0.105220  0.215929  0.043844  0.205544\n",
       "2  0.525643  0.939439  0.828907  0.933123  0.643853  0.008976\n",
       "3  0.234392  0.469187  0.517200  0.943219  0.472862  0.469984\n",
       "4  0.933037  0.324094  0.761387  0.166642  0.021803  0.576131\n",
       "5  0.791503  0.540213  0.950585  0.379006  0.732422  0.484946\n",
       "6  0.835030  0.494368  0.928875  0.681063  0.170177  0.596936"
      ]
     },
     "execution_count": 22,
     "metadata": {},
     "output_type": "execute_result"
    }
   ],
   "source": [
    "df1"
   ]
  },
  {
   "cell_type": "markdown",
   "id": "1e8a72da-7363-4c79-a80b-ee67bc96085e",
   "metadata": {},
   "source": [
    "### Q4. Write a code to find the following statistical measurements for the above dataframe df1:\n"
   ]
  },
  {
   "cell_type": "code",
   "execution_count": 23,
   "id": "e02661d9-7462-48b6-9c6f-6d82a2f12924",
   "metadata": {},
   "outputs": [
    {
     "data": {
      "text/plain": [
       "column_1    0.554765\n",
       "column_2    0.515361\n",
       "column_3    0.682029\n",
       "column_4    0.553164\n",
       "column_5    0.347494\n",
       "column_6    0.390420\n",
       "dtype: float64"
      ]
     },
     "execution_count": 23,
     "metadata": {},
     "output_type": "execute_result"
    }
   ],
   "source": [
    "df1.mean()"
   ]
  },
  {
   "cell_type": "code",
   "execution_count": 24,
   "id": "9f261b50-85c9-47ca-854b-8dc02d2023ac",
   "metadata": {},
   "outputs": [
    {
     "data": {
      "text/plain": [
       "0.22623214743502743"
      ]
     },
     "execution_count": 24,
     "metadata": {},
     "output_type": "execute_result"
    }
   ],
   "source": [
    "df1['column_2'].std()"
   ]
  },
  {
   "cell_type": "markdown",
   "id": "ddf81b86-486a-4a96-b561-0db64317380b",
   "metadata": {},
   "source": [
    "### Q5. Replace the data present in the second row of column, ‘column_2’ by a string variable then find the mean of column, column_2."
   ]
  },
  {
   "cell_type": "code",
   "execution_count": 40,
   "id": "683b3885-900c-4d5a-9df1-a4da094c1a64",
   "metadata": {},
   "outputs": [],
   "source": [
    "df1['column_2'][2]= '4'"
   ]
  },
  {
   "cell_type": "code",
   "execution_count": 41,
   "id": "6f74234e-ddbc-4e7f-8a52-67b2daaced1f",
   "metadata": {},
   "outputs": [
    {
     "data": {
      "text/html": [
       "<div>\n",
       "<style scoped>\n",
       "    .dataframe tbody tr th:only-of-type {\n",
       "        vertical-align: middle;\n",
       "    }\n",
       "\n",
       "    .dataframe tbody tr th {\n",
       "        vertical-align: top;\n",
       "    }\n",
       "\n",
       "    .dataframe thead th {\n",
       "        text-align: right;\n",
       "    }\n",
       "</style>\n",
       "<table border=\"1\" class=\"dataframe\">\n",
       "  <thead>\n",
       "    <tr style=\"text-align: right;\">\n",
       "      <th></th>\n",
       "      <th>column_1</th>\n",
       "      <th>column_2</th>\n",
       "      <th>column_3</th>\n",
       "      <th>column_4</th>\n",
       "      <th>column_5</th>\n",
       "      <th>column_6</th>\n",
       "    </tr>\n",
       "  </thead>\n",
       "  <tbody>\n",
       "    <tr>\n",
       "      <th>1</th>\n",
       "      <td>0.008987</td>\n",
       "      <td>0.324864</td>\n",
       "      <td>0.105220</td>\n",
       "      <td>0.215929</td>\n",
       "      <td>0.043844</td>\n",
       "      <td>0.205544</td>\n",
       "    </tr>\n",
       "    <tr>\n",
       "      <th>2</th>\n",
       "      <td>0.525643</td>\n",
       "      <td>4</td>\n",
       "      <td>0.828907</td>\n",
       "      <td>0.933123</td>\n",
       "      <td>0.643853</td>\n",
       "      <td>0.008976</td>\n",
       "    </tr>\n",
       "    <tr>\n",
       "      <th>3</th>\n",
       "      <td>0.234392</td>\n",
       "      <td>0.469187</td>\n",
       "      <td>0.517200</td>\n",
       "      <td>0.943219</td>\n",
       "      <td>0.472862</td>\n",
       "      <td>0.469984</td>\n",
       "    </tr>\n",
       "    <tr>\n",
       "      <th>4</th>\n",
       "      <td>0.933037</td>\n",
       "      <td>0.324094</td>\n",
       "      <td>0.761387</td>\n",
       "      <td>0.166642</td>\n",
       "      <td>0.021803</td>\n",
       "      <td>0.576131</td>\n",
       "    </tr>\n",
       "    <tr>\n",
       "      <th>5</th>\n",
       "      <td>0.791503</td>\n",
       "      <td>0.540213</td>\n",
       "      <td>0.950585</td>\n",
       "      <td>0.379006</td>\n",
       "      <td>0.732422</td>\n",
       "      <td>0.484946</td>\n",
       "    </tr>\n",
       "    <tr>\n",
       "      <th>6</th>\n",
       "      <td>0.835030</td>\n",
       "      <td>0.494368</td>\n",
       "      <td>0.928875</td>\n",
       "      <td>0.681063</td>\n",
       "      <td>0.170177</td>\n",
       "      <td>0.596936</td>\n",
       "    </tr>\n",
       "  </tbody>\n",
       "</table>\n",
       "</div>"
      ],
      "text/plain": [
       "   column_1  column_2  column_3  column_4  column_5  column_6\n",
       "1  0.008987  0.324864  0.105220  0.215929  0.043844  0.205544\n",
       "2  0.525643         4  0.828907  0.933123  0.643853  0.008976\n",
       "3  0.234392  0.469187  0.517200  0.943219  0.472862  0.469984\n",
       "4  0.933037  0.324094  0.761387  0.166642  0.021803  0.576131\n",
       "5  0.791503  0.540213  0.950585  0.379006  0.732422  0.484946\n",
       "6  0.835030  0.494368  0.928875  0.681063  0.170177  0.596936"
      ]
     },
     "execution_count": 41,
     "metadata": {},
     "output_type": "execute_result"
    }
   ],
   "source": [
    "df1"
   ]
  },
  {
   "cell_type": "code",
   "execution_count": 49,
   "id": "2df35b26-9b27-4394-8940-031e4cfa32bd",
   "metadata": {},
   "outputs": [
    {
     "name": "stdout",
     "output_type": "stream",
     "text": [
      "1.025454271704669\n"
     ]
    }
   ],
   "source": [
    "s=0\n",
    "c=0\n",
    "for i in df1['column_2']:\n",
    "    \n",
    "    if type(i)==str:\n",
    "        s=s+int(i)\n",
    "        c=c+1\n",
    "                \n",
    "    else:\n",
    "        s=s+i\n",
    "        c=c+1\n",
    "                \n",
    "print(s/c)                "
   ]
  },
  {
   "cell_type": "markdown",
   "id": "2b0c35bb-4335-4b06-baa5-4e5bd3235be2",
   "metadata": {},
   "source": [
    "### Q6. What do you understand about the windows function in pandas and list the types of windows functions?"
   ]
  },
  {
   "cell_type": "markdown",
   "id": "6c036a24-b62b-4d85-aaa5-fe2e34289f94",
   "metadata": {},
   "source": [
    "Window functions are an efficient way to understand more about the relationship between each of the records within our data and the groups they belong to."
   ]
  },
  {
   "cell_type": "markdown",
   "id": "f243cf38-3659-4d98-9b5c-e678ccc654f8",
   "metadata": {},
   "source": [
    "### Q7. Write a code to print only the current month and year at the time of answering this question. [Hint: Use pandas.datetime function]"
   ]
  },
  {
   "cell_type": "code",
   "execution_count": 62,
   "id": "959c6a2e-541a-40ef-b971-edef4f7e0048",
   "metadata": {},
   "outputs": [],
   "source": [
    "from datetime import datetime\n",
    "year = datetime.now().year\n",
    "month = datetime.now().month"
   ]
  },
  {
   "cell_type": "code",
   "execution_count": 63,
   "id": "5e1be4d1-5247-49bb-9814-ce8268937faa",
   "metadata": {},
   "outputs": [
    {
     "data": {
      "text/plain": [
       "2024"
      ]
     },
     "execution_count": 63,
     "metadata": {},
     "output_type": "execute_result"
    }
   ],
   "source": [
    "year"
   ]
  },
  {
   "cell_type": "code",
   "execution_count": 64,
   "id": "48fd7fb2-ef72-4280-95e2-ea33af206921",
   "metadata": {},
   "outputs": [
    {
     "data": {
      "text/plain": [
       "1"
      ]
     },
     "execution_count": 64,
     "metadata": {},
     "output_type": "execute_result"
    }
   ],
   "source": [
    "month"
   ]
  },
  {
   "cell_type": "markdown",
   "id": "abc35fc9-1064-4432-8e4b-2fc22b9e43d9",
   "metadata": {},
   "source": [
    "### Q8. Write a Python program that takes in two dates as input (in the format YYYY-MM-DD) and calculates the difference between them in days, hours, and minutes using Pandas time delta. The program should prompt the user to enter the dates and display the result."
   ]
  },
  {
   "cell_type": "code",
   "execution_count": 6,
   "id": "ec62e274-be9e-4d52-8629-3e5dd5dc69a4",
   "metadata": {},
   "outputs": [
    {
     "name": "stdin",
     "output_type": "stream",
     "text": [
      "Enter the start date (YYYY-MM-DD):  2023-01-01\n",
      "Enter the end date (YYYY-MM-DD):  2023-01-02\n"
     ]
    },
    {
     "name": "stdout",
     "output_type": "stream",
     "text": [
      "The difference between 2023-01-01 and 2023-01-02 is 1 days, 0 hours, and 0 minutes.\n"
     ]
    }
   ],
   "source": [
    "import pandas as pd\n",
    "\n",
    "start_date = input(\"Enter the start date (YYYY-MM-DD): \")\n",
    "end_date = input(\"Enter the end date (YYYY-MM-DD): \")\n",
    "\n",
    "start_datetime = pd.to_datetime(start_date)\n",
    "end_datetime = pd.to_datetime(end_date)\n",
    "\n",
    "time_delta = end_datetime - start_datetime\n",
    "\n",
    "\n",
    "\n",
    "days = time_delta.days\n",
    "hours = time_delta.seconds // 3600\n",
    "minutes = (time_delta.seconds % 3600) // 60\n",
    "\n",
    "print(f\"The difference between {start_date} and {end_date} is {days} days, {hours} hours, and {minutes} minutes.\")\n"
   ]
  },
  {
   "cell_type": "markdown",
   "id": "281db347-6fb5-48a5-8815-e762ecb19135",
   "metadata": {},
   "source": [
    "### Q9. Write a Python program that reads a CSV file containing categorical data and converts a specified column to a categorical data type. The program should prompt the user to enter the file path, column name, and category order, and then display the sorted data."
   ]
  },
  {
   "cell_type": "code",
   "execution_count": null,
   "id": "74e88105-db8b-470f-9681-3539717f7ddb",
   "metadata": {},
   "outputs": [],
   "source": [
    "import pandas as pd\n",
    "\n",
    "# Prompt the user to enter the file path\n",
    "file_path = input(\"Enter the file path: \")\n",
    "\n",
    "# Read the CSV file\n",
    "data = pd.read_csv(file_path)\n",
    "\n",
    "# Prompt the user to enter the column name\n",
    "column_name = input(\"Enter the column name: \")\n",
    "\n",
    "# Convert the specified column to a categorical data type\n",
    "data[column_name] = pd.Categorical(data[column_name])\n",
    "\n",
    "# Prompt the user to enter the category order\n",
    "category_order = input(\"Enter the category order (comma-separated): \")\n",
    "\n",
    "# Set the category order\n",
    "data[column_name] = data[column_name].cat.set_categories(category_order.split(\",\"))\n",
    "\n",
    "# Display the sorted data\n",
    "print(data.sort_values(by=[column_name]))\n"
   ]
  },
  {
   "cell_type": "markdown",
   "id": "77de289c-2aca-4ac7-a686-5fb19cac0007",
   "metadata": {},
   "source": [
    "### Q10. Write a Python program that reads a CSV file containing sales data for different products and visualizes the data using a stacked bar chart to show the sales of each product category over time. The program should prompt the user to enter the file path and display the chart."
   ]
  },
  {
   "cell_type": "code",
   "execution_count": null,
   "id": "7aedd6fa-fd01-4bad-b2d8-67ff45b783c0",
   "metadata": {},
   "outputs": [],
   "source": [
    "import pandas as pd\n",
    "import matplotlib.pyplot as plt\n",
    "\n",
    "# Prompt the user to enter the file path\n",
    "file_path = input(\"Enter the file path: \")\n",
    "\n",
    "# Read the CSV file\n",
    "data = pd.read_csv(file_path)\n",
    "\n",
    "# Convert the date column to datetime format\n",
    "data['date'] = pd.to_datetime(data['date'])\n",
    "\n",
    "# Group the data by date and product category\n",
    "grouped_data = data.groupby(['date', 'product_category'])['sales'].sum().unstack()\n",
    "\n",
    "# Plot the stacked bar chart\n",
    "grouped_data.plot(kind='bar', stacked=True)\n",
    "\n",
    "# Set the chart title and axis labels\n",
    "plt.title('Sales by Product Category')\n",
    "plt.xlabel('Date')\n",
    "plt.ylabel('Sales')\n",
    "\n",
    "# Display the chart\n",
    "plt.show()\n"
   ]
  },
  {
   "cell_type": "markdown",
   "id": "e6c9d7a8-2bb1-4d34-89d8-d243a64cd90b",
   "metadata": {},
   "source": [
    "### Q11. You are given a CSV file containing student data that includes the student ID and their test score. Write a Python program that reads the CSV file, calculates the mean, median, and mode of the test scores, and displays the results in a table."
   ]
  },
  {
   "cell_type": "code",
   "execution_count": null,
   "id": "306510af-f6e3-44eb-a7e0-5523172dc6d5",
   "metadata": {},
   "outputs": [],
   "source": [
    "import pandas as pd\n",
    "\n",
    "# Prompt the user to enter the file path\n",
    "file_path = input(\"Enter the file path: \")\n",
    "\n",
    "# Read the CSV file\n",
    "data = pd.read_csv(file_path)\n",
    "\n",
    "# Calculate the mean, median, and mode of the test scores\n",
    "mean = data['test_score'].mean()\n",
    "median = data['test_score'].median()\n",
    "mode = data['test_score'].mode()[0]\n",
    "\n",
    "# Display the results in a table\n",
    "print(f\"{'Statistic':<10} {'Value':<10}\")\n",
    "print(f\"{'Mean':<10} {mean:<10.2f}\")\n",
    "print(f\"{'Median':<10} {median:<10.2f}\")\n",
    "print(f\"{'Mode':<10} {mode:<10.2f}\")\n"
   ]
  },
  {
   "cell_type": "markdown",
   "id": "57d19a33-2291-4e80-95e4-a603e3e7cff8",
   "metadata": {},
   "source": [
    "## END"
   ]
  },
  {
   "cell_type": "code",
   "execution_count": null,
   "id": "d20ae895-a5cd-4a78-862a-c76c5682a74d",
   "metadata": {},
   "outputs": [],
   "source": []
  }
 ],
 "metadata": {
  "kernelspec": {
   "display_name": "Python 3 (ipykernel)",
   "language": "python",
   "name": "python3"
  },
  "language_info": {
   "codemirror_mode": {
    "name": "ipython",
    "version": 3
   },
   "file_extension": ".py",
   "mimetype": "text/x-python",
   "name": "python",
   "nbconvert_exporter": "python",
   "pygments_lexer": "ipython3",
   "version": "3.10.8"
  }
 },
 "nbformat": 4,
 "nbformat_minor": 5
}
